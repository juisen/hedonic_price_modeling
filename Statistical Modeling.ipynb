{
 "cells": [
  {
   "cell_type": "markdown",
   "metadata": {},
   "source": [
    "library(tidyverse)\n",
    "library(gridExtra)\n",
    "library(lmtest)\n",
    "library(estimatr)"
   ]
  },
  {
   "cell_type": "code",
   "execution_count": 2,
   "metadata": {},
   "outputs": [
    {
     "data": {
      "text/html": [
       "<table>\n",
       "<thead><tr><th scope=col>MSSubClass</th><th scope=col>MSZoning</th><th scope=col>LotFrontage</th><th scope=col>LotArea</th><th scope=col>Street</th><th scope=col>LotShape</th><th scope=col>LandContour</th><th scope=col>Utilities</th><th scope=col>LotConfig</th><th scope=col>LandSlope</th><th scope=col>...</th><th scope=col>MiscVal</th><th scope=col>MoSold</th><th scope=col>YrSold</th><th scope=col>SaleType</th><th scope=col>SaleCondition</th><th scope=col>log_price</th><th scope=col>Age</th><th scope=col>HasBasement</th><th scope=col>HasGarage</th><th scope=col>HasFireplace</th></tr></thead>\n",
       "<tbody>\n",
       "\t<tr><td>60      </td><td>RL      </td><td>65      </td><td>9.042040</td><td>Pave    </td><td>Reg     </td><td>Lvl     </td><td>AllPub  </td><td>Inside  </td><td>Gtl     </td><td>...     </td><td>  0     </td><td> 2      </td><td>2008    </td><td>WD      </td><td>Normal  </td><td>12.24770</td><td> 5      </td><td>Yes     </td><td>Yes     </td><td>No      </td></tr>\n",
       "\t<tr><td>20      </td><td>RL      </td><td>80      </td><td>9.169623</td><td>Pave    </td><td>Reg     </td><td>Lvl     </td><td>AllPub  </td><td>FR2     </td><td>Gtl     </td><td>...     </td><td>  0     </td><td> 5      </td><td>2007    </td><td>WD      </td><td>Normal  </td><td>12.10902</td><td>31      </td><td>Yes     </td><td>Yes     </td><td>Yes     </td></tr>\n",
       "\t<tr><td>60      </td><td>RL      </td><td>68      </td><td>9.328212</td><td>Pave    </td><td>IR1     </td><td>Lvl     </td><td>AllPub  </td><td>Inside  </td><td>Gtl     </td><td>...     </td><td>  0     </td><td> 9      </td><td>2008    </td><td>WD      </td><td>Normal  </td><td>12.31717</td><td> 7      </td><td>Yes     </td><td>Yes     </td><td>Yes     </td></tr>\n",
       "\t<tr><td>70      </td><td>RL      </td><td>60      </td><td>9.164401</td><td>Pave    </td><td>IR1     </td><td>Lvl     </td><td>AllPub  </td><td>Corner  </td><td>Gtl     </td><td>...     </td><td>  0     </td><td> 2      </td><td>2006    </td><td>WD      </td><td>Abnorml </td><td>11.84940</td><td>91      </td><td>Yes     </td><td>Yes     </td><td>Yes     </td></tr>\n",
       "\t<tr><td>60      </td><td>RL      </td><td>84      </td><td>9.565284</td><td>Pave    </td><td>IR1     </td><td>Lvl     </td><td>AllPub  </td><td>FR2     </td><td>Gtl     </td><td>...     </td><td>  0     </td><td>12      </td><td>2008    </td><td>WD      </td><td>Normal  </td><td>12.42922</td><td> 8      </td><td>Yes     </td><td>Yes     </td><td>Yes     </td></tr>\n",
       "\t<tr><td>50      </td><td>RL      </td><td>85      </td><td>9.555064</td><td>Pave    </td><td>IR1     </td><td>Lvl     </td><td>AllPub  </td><td>Inside  </td><td>Gtl     </td><td>...     </td><td>700     </td><td>10      </td><td>2009    </td><td>WD      </td><td>Normal  </td><td>11.87061</td><td>16      </td><td>Yes     </td><td>Yes     </td><td>No      </td></tr>\n",
       "</tbody>\n",
       "</table>\n"
      ],
      "text/latex": [
       "\\begin{tabular}{r|llllllllllllllllllllllllllllllllllllllllllllllllllllllllllllllllllllllllllllllll}\n",
       " MSSubClass & MSZoning & LotFrontage & LotArea & Street & LotShape & LandContour & Utilities & LotConfig & LandSlope & ... & MiscVal & MoSold & YrSold & SaleType & SaleCondition & log\\_price & Age & HasBasement & HasGarage & HasFireplace\\\\\n",
       "\\hline\n",
       "\t 60       & RL       & 65       & 9.042040 & Pave     & Reg      & Lvl      & AllPub   & Inside   & Gtl      & ...      &   0      &  2       & 2008     & WD       & Normal   & 12.24770 &  5       & Yes      & Yes      & No      \\\\\n",
       "\t 20       & RL       & 80       & 9.169623 & Pave     & Reg      & Lvl      & AllPub   & FR2      & Gtl      & ...      &   0      &  5       & 2007     & WD       & Normal   & 12.10902 & 31       & Yes      & Yes      & Yes     \\\\\n",
       "\t 60       & RL       & 68       & 9.328212 & Pave     & IR1      & Lvl      & AllPub   & Inside   & Gtl      & ...      &   0      &  9       & 2008     & WD       & Normal   & 12.31717 &  7       & Yes      & Yes      & Yes     \\\\\n",
       "\t 70       & RL       & 60       & 9.164401 & Pave     & IR1      & Lvl      & AllPub   & Corner   & Gtl      & ...      &   0      &  2       & 2006     & WD       & Abnorml  & 11.84940 & 91       & Yes      & Yes      & Yes     \\\\\n",
       "\t 60       & RL       & 84       & 9.565284 & Pave     & IR1      & Lvl      & AllPub   & FR2      & Gtl      & ...      &   0      & 12       & 2008     & WD       & Normal   & 12.42922 &  8       & Yes      & Yes      & Yes     \\\\\n",
       "\t 50       & RL       & 85       & 9.555064 & Pave     & IR1      & Lvl      & AllPub   & Inside   & Gtl      & ...      & 700      & 10       & 2009     & WD       & Normal   & 11.87061 & 16       & Yes      & Yes      & No      \\\\\n",
       "\\end{tabular}\n"
      ],
      "text/markdown": [
       "\n",
       "| MSSubClass | MSZoning | LotFrontage | LotArea | Street | LotShape | LandContour | Utilities | LotConfig | LandSlope | ... | MiscVal | MoSold | YrSold | SaleType | SaleCondition | log_price | Age | HasBasement | HasGarage | HasFireplace |\n",
       "|---|---|---|---|---|---|---|---|---|---|---|---|---|---|---|---|---|---|---|---|---|\n",
       "| 60       | RL       | 65       | 9.042040 | Pave     | Reg      | Lvl      | AllPub   | Inside   | Gtl      | ...      |   0      |  2       | 2008     | WD       | Normal   | 12.24770 |  5       | Yes      | Yes      | No       |\n",
       "| 20       | RL       | 80       | 9.169623 | Pave     | Reg      | Lvl      | AllPub   | FR2      | Gtl      | ...      |   0      |  5       | 2007     | WD       | Normal   | 12.10902 | 31       | Yes      | Yes      | Yes      |\n",
       "| 60       | RL       | 68       | 9.328212 | Pave     | IR1      | Lvl      | AllPub   | Inside   | Gtl      | ...      |   0      |  9       | 2008     | WD       | Normal   | 12.31717 |  7       | Yes      | Yes      | Yes      |\n",
       "| 70       | RL       | 60       | 9.164401 | Pave     | IR1      | Lvl      | AllPub   | Corner   | Gtl      | ...      |   0      |  2       | 2006     | WD       | Abnorml  | 11.84940 | 91       | Yes      | Yes      | Yes      |\n",
       "| 60       | RL       | 84       | 9.565284 | Pave     | IR1      | Lvl      | AllPub   | FR2      | Gtl      | ...      |   0      | 12       | 2008     | WD       | Normal   | 12.42922 |  8       | Yes      | Yes      | Yes      |\n",
       "| 50       | RL       | 85       | 9.555064 | Pave     | IR1      | Lvl      | AllPub   | Inside   | Gtl      | ...      | 700      | 10       | 2009     | WD       | Normal   | 11.87061 | 16       | Yes      | Yes      | No       |\n",
       "\n"
      ],
      "text/plain": [
       "  MSSubClass MSZoning LotFrontage LotArea  Street LotShape LandContour\n",
       "1 60         RL       65          9.042040 Pave   Reg      Lvl        \n",
       "2 20         RL       80          9.169623 Pave   Reg      Lvl        \n",
       "3 60         RL       68          9.328212 Pave   IR1      Lvl        \n",
       "4 70         RL       60          9.164401 Pave   IR1      Lvl        \n",
       "5 60         RL       84          9.565284 Pave   IR1      Lvl        \n",
       "6 50         RL       85          9.555064 Pave   IR1      Lvl        \n",
       "  Utilities LotConfig LandSlope ... MiscVal MoSold YrSold SaleType\n",
       "1 AllPub    Inside    Gtl       ...   0      2     2008   WD      \n",
       "2 AllPub    FR2       Gtl       ...   0      5     2007   WD      \n",
       "3 AllPub    Inside    Gtl       ...   0      9     2008   WD      \n",
       "4 AllPub    Corner    Gtl       ...   0      2     2006   WD      \n",
       "5 AllPub    FR2       Gtl       ...   0     12     2008   WD      \n",
       "6 AllPub    Inside    Gtl       ... 700     10     2009   WD      \n",
       "  SaleCondition log_price Age HasBasement HasGarage HasFireplace\n",
       "1 Normal        12.24770   5  Yes         Yes       No          \n",
       "2 Normal        12.10902  31  Yes         Yes       Yes         \n",
       "3 Normal        12.31717   7  Yes         Yes       Yes         \n",
       "4 Abnorml       11.84940  91  Yes         Yes       Yes         \n",
       "5 Normal        12.42922   8  Yes         Yes       Yes         \n",
       "6 Normal        11.87061  16  Yes         Yes       No          "
      ]
     },
     "metadata": {},
     "output_type": "display_data"
    }
   ],
   "source": [
    "data_preprocessed = read.csv(\"data_preprocessed.csv\", header = T)\n",
    "data = data_preprocessed\n",
    "head(data)"
   ]
  },
  {
   "cell_type": "code",
   "execution_count": 3,
   "metadata": {},
   "outputs": [],
   "source": [
    "table<-function(x,...){\n",
    "    x%>%\n",
    "    group_by(...)%>%\n",
    "    summarise(mean_price = round(mean(exp(log_price)), 0),\n",
    "              ci_price = paste0(\"\\u00B1 \", round(1.96*(sd(exp(log_price)) / sqrt(nrow(data))), 0)),\n",
    "              mean_sq = round(mean(exp(LotArea)), 0),\n",
    "              ci_sq = paste0(\"\\u00B1 \", round(1.96*(sd(exp(LotArea)) / sqrt(nrow(data))), 0)),\n",
    "              Count = n(),\n",
    "              \"Average Sale Price\" = paste0(mean_price, \" (\", ci_price, \")\"),\n",
    "              \"Average Lot Area\" = paste0(mean_sq, \" (\", ci_sq, \")\"),\n",
    "              \"Median Age\" = round(median(Age),0))%>%\n",
    "    select(-c(mean_sq, ci_sq, mean_price, ci_price))\n",
    "}"
   ]
  },
  {
   "cell_type": "code",
   "execution_count": 4,
   "metadata": {},
   "outputs": [
    {
     "data": {
      "text/html": [
       "<table>\n",
       "<thead><tr><th scope=col>House Style</th><th scope=col>Count</th><th scope=col>Average Sale Price</th><th scope=col>Average Lot Area</th><th scope=col>Median Age</th></tr></thead>\n",
       "<tbody>\n",
       "\t<tr><td>1.5Fin         </td><td>154            </td><td>143118 (± 2784)</td><td>11450 (± 916)  </td><td>70             </td></tr>\n",
       "\t<tr><td>1.5Unf         </td><td> 14            </td><td>110151 (± 976) </td><td>7120 (± 94)    </td><td>78             </td></tr>\n",
       "\t<tr><td>1Story         </td><td>726            </td><td>175986 (± 3953)</td><td>10645 (± 525)  </td><td>36             </td></tr>\n",
       "\t<tr><td>2.5Fin         </td><td>  8            </td><td>220001 (± 6064)</td><td>12469 (± 315)  </td><td>94             </td></tr>\n",
       "\t<tr><td>2.5Unf         </td><td> 11            </td><td>157356 (± 3280)</td><td>9154 (± 116)   </td><td>93             </td></tr>\n",
       "\t<tr><td>2Story         </td><td>445            </td><td>210053 (± 4480)</td><td>10326 (± 330)  </td><td>13             </td></tr>\n",
       "\t<tr><td>SFoyer         </td><td> 37            </td><td>135075 (± 1564)</td><td>7674 (± 182)   </td><td>32             </td></tr>\n",
       "\t<tr><td>SLvl           </td><td> 65            </td><td>166704 (± 1965)</td><td>10539 (± 176)  </td><td>37             </td></tr>\n",
       "</tbody>\n",
       "</table>\n"
      ],
      "text/latex": [
       "\\begin{tabular}{r|lllll}\n",
       " House Style & Count & Average Sale Price & Average Lot Area & Median Age\\\\\n",
       "\\hline\n",
       "\t 1.5Fin          & 154             & 143118 (± 2784) & 11450 (± 916)   & 70             \\\\\n",
       "\t 1.5Unf          &  14             & 110151 (± 976)  & 7120 (± 94)     & 78             \\\\\n",
       "\t 1Story          & 726             & 175986 (± 3953) & 10645 (± 525)   & 36             \\\\\n",
       "\t 2.5Fin          &   8             & 220001 (± 6064) & 12469 (± 315)   & 94             \\\\\n",
       "\t 2.5Unf          &  11             & 157356 (± 3280) & 9154 (± 116)    & 93             \\\\\n",
       "\t 2Story          & 445             & 210053 (± 4480) & 10326 (± 330)   & 13             \\\\\n",
       "\t SFoyer          &  37             & 135075 (± 1564) & 7674 (± 182)    & 32             \\\\\n",
       "\t SLvl            &  65             & 166704 (± 1965) & 10539 (± 176)   & 37             \\\\\n",
       "\\end{tabular}\n"
      ],
      "text/markdown": [
       "\n",
       "| House Style | Count | Average Sale Price | Average Lot Area | Median Age |\n",
       "|---|---|---|---|---|\n",
       "| 1.5Fin          | 154             | 143118 (± 2784) | 11450 (± 916)   | 70              |\n",
       "| 1.5Unf          |  14             | 110151 (± 976)  | 7120 (± 94)     | 78              |\n",
       "| 1Story          | 726             | 175986 (± 3953) | 10645 (± 525)   | 36              |\n",
       "| 2.5Fin          |   8             | 220001 (± 6064) | 12469 (± 315)   | 94              |\n",
       "| 2.5Unf          |  11             | 157356 (± 3280) | 9154 (± 116)    | 93              |\n",
       "| 2Story          | 445             | 210053 (± 4480) | 10326 (± 330)   | 13              |\n",
       "| SFoyer          |  37             | 135075 (± 1564) | 7674 (± 182)    | 32              |\n",
       "| SLvl            |  65             | 166704 (± 1965) | 10539 (± 176)   | 37              |\n",
       "\n"
      ],
      "text/plain": [
       "  House Style Count Average Sale Price Average Lot Area Median Age\n",
       "1 1.5Fin      154   143118 (± 2784)    11450 (± 916)    70        \n",
       "2 1.5Unf       14   110151 (± 976)     7120 (± 94)      78        \n",
       "3 1Story      726   175986 (± 3953)    10645 (± 525)    36        \n",
       "4 2.5Fin        8   220001 (± 6064)    12469 (± 315)    94        \n",
       "5 2.5Unf       11   157356 (± 3280)    9154 (± 116)     93        \n",
       "6 2Story      445   210053 (± 4480)    10326 (± 330)    13        \n",
       "7 SFoyer       37   135075 (± 1564)    7674 (± 182)     32        \n",
       "8 SLvl         65   166704 (± 1965)    10539 (± 176)    37        "
      ]
     },
     "metadata": {},
     "output_type": "display_data"
    }
   ],
   "source": [
    "table(data,HouseStyle)%>%\n",
    "    rename(\"House Style\" = \"HouseStyle\")"
   ]
  },
  {
   "cell_type": "code",
   "execution_count": 5,
   "metadata": {},
   "outputs": [
    {
     "data": {
      "text/html": [
       "<table>\n",
       "<thead><tr><th scope=col>Overall Quality</th><th scope=col>Count</th><th scope=col>Average Sale Price</th><th scope=col>Average Lot Area</th><th scope=col>Median Age</th></tr></thead>\n",
       "<tbody>\n",
       "\t<tr><td> 1             </td><td>  2            </td><td>50151 (± 787)  </td><td>7511 (± 182)   </td><td>74             </td></tr>\n",
       "\t<tr><td> 2             </td><td>  3            </td><td>51771 (± 731)  </td><td>7841 (± 78)    </td><td>73             </td></tr>\n",
       "\t<tr><td> 3             </td><td> 20            </td><td>87475 (± 1266) </td><td>8360 (± 169)   </td><td>73             </td></tr>\n",
       "\t<tr><td> 4             </td><td>116            </td><td>108422 (± 1489)</td><td>8919 (± 304)   </td><td>54             </td></tr>\n",
       "\t<tr><td> 5             </td><td>397            </td><td>133524 (± 1390)</td><td>10154 (± 472)  </td><td>49             </td></tr>\n",
       "\t<tr><td> 6             </td><td>374            </td><td>161604 (± 1851)</td><td>10028 (± 474)  </td><td>37             </td></tr>\n",
       "\t<tr><td> 7             </td><td>319            </td><td>207717 (± 2281)</td><td>11077 (± 722)  </td><td> 8             </td></tr>\n",
       "\t<tr><td> 8             </td><td>168            </td><td>274737 (± 3278)</td><td>11105 (± 282)  </td><td> 5             </td></tr>\n",
       "\t<tr><td> 9             </td><td> 43            </td><td>367514 (± 4169)</td><td>13425 (± 333)  </td><td> 2             </td></tr>\n",
       "\t<tr><td>10             </td><td> 18            </td><td>438589 (± 8196)</td><td>19871 (± 703)  </td><td> 1             </td></tr>\n",
       "</tbody>\n",
       "</table>\n"
      ],
      "text/latex": [
       "\\begin{tabular}{r|lllll}\n",
       " Overall Quality & Count & Average Sale Price & Average Lot Area & Median Age\\\\\n",
       "\\hline\n",
       "\t  1              &   2             & 50151 (± 787)   & 7511 (± 182)    & 74             \\\\\n",
       "\t  2              &   3             & 51771 (± 731)   & 7841 (± 78)     & 73             \\\\\n",
       "\t  3              &  20             & 87475 (± 1266)  & 8360 (± 169)    & 73             \\\\\n",
       "\t  4              & 116             & 108422 (± 1489) & 8919 (± 304)    & 54             \\\\\n",
       "\t  5              & 397             & 133524 (± 1390) & 10154 (± 472)   & 49             \\\\\n",
       "\t  6              & 374             & 161604 (± 1851) & 10028 (± 474)   & 37             \\\\\n",
       "\t  7              & 319             & 207717 (± 2281) & 11077 (± 722)   &  8             \\\\\n",
       "\t  8              & 168             & 274737 (± 3278) & 11105 (± 282)   &  5             \\\\\n",
       "\t  9              &  43             & 367514 (± 4169) & 13425 (± 333)   &  2             \\\\\n",
       "\t 10              &  18             & 438589 (± 8196) & 19871 (± 703)   &  1             \\\\\n",
       "\\end{tabular}\n"
      ],
      "text/markdown": [
       "\n",
       "| Overall Quality | Count | Average Sale Price | Average Lot Area | Median Age |\n",
       "|---|---|---|---|---|\n",
       "|  1              |   2             | 50151 (± 787)   | 7511 (± 182)    | 74              |\n",
       "|  2              |   3             | 51771 (± 731)   | 7841 (± 78)     | 73              |\n",
       "|  3              |  20             | 87475 (± 1266)  | 8360 (± 169)    | 73              |\n",
       "|  4              | 116             | 108422 (± 1489) | 8919 (± 304)    | 54              |\n",
       "|  5              | 397             | 133524 (± 1390) | 10154 (± 472)   | 49              |\n",
       "|  6              | 374             | 161604 (± 1851) | 10028 (± 474)   | 37              |\n",
       "|  7              | 319             | 207717 (± 2281) | 11077 (± 722)   |  8              |\n",
       "|  8              | 168             | 274737 (± 3278) | 11105 (± 282)   |  5              |\n",
       "|  9              |  43             | 367514 (± 4169) | 13425 (± 333)   |  2              |\n",
       "| 10              |  18             | 438589 (± 8196) | 19871 (± 703)   |  1              |\n",
       "\n"
      ],
      "text/plain": [
       "   Overall Quality Count Average Sale Price Average Lot Area Median Age\n",
       "1   1                2   50151 (± 787)      7511 (± 182)     74        \n",
       "2   2                3   51771 (± 731)      7841 (± 78)      73        \n",
       "3   3               20   87475 (± 1266)     8360 (± 169)     73        \n",
       "4   4              116   108422 (± 1489)    8919 (± 304)     54        \n",
       "5   5              397   133524 (± 1390)    10154 (± 472)    49        \n",
       "6   6              374   161604 (± 1851)    10028 (± 474)    37        \n",
       "7   7              319   207717 (± 2281)    11077 (± 722)     8        \n",
       "8   8              168   274737 (± 3278)    11105 (± 282)     5        \n",
       "9   9               43   367514 (± 4169)    13425 (± 333)     2        \n",
       "10 10               18   438589 (± 8196)    19871 (± 703)     1        "
      ]
     },
     "metadata": {},
     "output_type": "display_data"
    }
   ],
   "source": [
    "table(data,OverallQual)%>%\n",
    "    rename(\"Overall Quality\" = \"OverallQual\")"
   ]
  },
  {
   "cell_type": "markdown",
   "metadata": {},
   "source": [
    "**Let \"below average\" denote houses with overall quality less than or equal to $4$; \"average\", $5$ and $6$; and \"above average\" to be $7$ and above:**"
   ]
  },
  {
   "cell_type": "code",
   "execution_count": 6,
   "metadata": {},
   "outputs": [],
   "source": [
    "data[,\"OverallQual\"]<-factor(data[,\"OverallQual\"], \n",
    "                             levels = c(1:10), \n",
    "                             labels = c(rep(\"Below Average\", 4),\n",
    "                                        rep(\"Average\", 2),\n",
    "                                        rep(\"Above Average\", 4)))"
   ]
  },
  {
   "cell_type": "code",
   "execution_count": 7,
   "metadata": {},
   "outputs": [
    {
     "data": {
      "text/html": [
       "<table>\n",
       "<thead><tr><th scope=col>Overall Quality</th><th scope=col>Count</th><th scope=col>Average Sale Price</th><th scope=col>Average Lot Area</th><th scope=col>Median Age</th></tr></thead>\n",
       "<tbody>\n",
       "\t<tr><td>Below Average  </td><td>141            </td><td>103419 (± 1568)</td><td>8797 (± 284)   </td><td>59             </td></tr>\n",
       "\t<tr><td>Average        </td><td>771            </td><td>147145 (± 1781)</td><td>10093 (± 473)  </td><td>45             </td></tr>\n",
       "\t<tr><td>Above Average  </td><td>548            </td><td>248386 (± 4347)</td><td>11559 (± 599)  </td><td> 6             </td></tr>\n",
       "</tbody>\n",
       "</table>\n"
      ],
      "text/latex": [
       "\\begin{tabular}{r|lllll}\n",
       " Overall Quality & Count & Average Sale Price & Average Lot Area & Median Age\\\\\n",
       "\\hline\n",
       "\t Below Average   & 141             & 103419 (± 1568) & 8797 (± 284)    & 59             \\\\\n",
       "\t Average         & 771             & 147145 (± 1781) & 10093 (± 473)   & 45             \\\\\n",
       "\t Above Average   & 548             & 248386 (± 4347) & 11559 (± 599)   &  6             \\\\\n",
       "\\end{tabular}\n"
      ],
      "text/markdown": [
       "\n",
       "| Overall Quality | Count | Average Sale Price | Average Lot Area | Median Age |\n",
       "|---|---|---|---|---|\n",
       "| Below Average   | 141             | 103419 (± 1568) | 8797 (± 284)    | 59              |\n",
       "| Average         | 771             | 147145 (± 1781) | 10093 (± 473)   | 45              |\n",
       "| Above Average   | 548             | 248386 (± 4347) | 11559 (± 599)   |  6              |\n",
       "\n"
      ],
      "text/plain": [
       "  Overall Quality Count Average Sale Price Average Lot Area Median Age\n",
       "1 Below Average   141   103419 (± 1568)    8797 (± 284)     59        \n",
       "2 Average         771   147145 (± 1781)    10093 (± 473)    45        \n",
       "3 Above Average   548   248386 (± 4347)    11559 (± 599)     6        "
      ]
     },
     "metadata": {},
     "output_type": "display_data"
    }
   ],
   "source": [
    "table(data,OverallQual)%>%\n",
    "    rename(\"Overall Quality\" = \"OverallQual\")"
   ]
  },
  {
   "cell_type": "markdown",
   "metadata": {},
   "source": [
    "***BedroomAbvGr* is the number of bedrooms above ground. The six properties (see table below) with no bedrooms probably only have bedrooms in the basement instead. Clearly, most properties have between $2$ and $4$ bedrooms:**"
   ]
  },
  {
   "cell_type": "code",
   "execution_count": 8,
   "metadata": {},
   "outputs": [
    {
     "data": {
      "text/html": [
       "<table>\n",
       "<thead><tr><th scope=col>BedroomAbvGr</th><th scope=col>Count</th><th scope=col>Average Sale Price</th><th scope=col>Average Lot Area</th><th scope=col>Median Age</th></tr></thead>\n",
       "<tbody>\n",
       "\t<tr><td>0              </td><td>  6            </td><td>221494 (± 5472)</td><td>18153 (± 874)  </td><td>30             </td></tr>\n",
       "\t<tr><td>1              </td><td> 50            </td><td>173163 (± 5282)</td><td>7869 (± 287)   </td><td>16             </td></tr>\n",
       "\t<tr><td>2              </td><td>358            </td><td>158199 (± 4011)</td><td>8484 (± 407)   </td><td>44             </td></tr>\n",
       "\t<tr><td>3              </td><td>804            </td><td>181058 (± 3272)</td><td>10856 (± 529)  </td><td>32             </td></tr>\n",
       "\t<tr><td>4              </td><td>213            </td><td>220422 (± 5617)</td><td>12923 (± 605)  </td><td>38             </td></tr>\n",
       "\t<tr><td>5              </td><td> 21            </td><td>180820 (± 3512)</td><td>12363 (± 425)  </td><td>88             </td></tr>\n",
       "\t<tr><td>6              </td><td>  7            </td><td>143780 (± 1357)</td><td>9311 (± 135)   </td><td>43             </td></tr>\n",
       "\t<tr><td>8              </td><td>  1            </td><td>200001 (± NA)  </td><td>10897 (± NA)   </td><td>93             </td></tr>\n",
       "</tbody>\n",
       "</table>\n"
      ],
      "text/latex": [
       "\\begin{tabular}{r|lllll}\n",
       " BedroomAbvGr & Count & Average Sale Price & Average Lot Area & Median Age\\\\\n",
       "\\hline\n",
       "\t 0               &   6             & 221494 (± 5472) & 18153 (± 874)   & 30             \\\\\n",
       "\t 1               &  50             & 173163 (± 5282) & 7869 (± 287)    & 16             \\\\\n",
       "\t 2               & 358             & 158199 (± 4011) & 8484 (± 407)    & 44             \\\\\n",
       "\t 3               & 804             & 181058 (± 3272) & 10856 (± 529)   & 32             \\\\\n",
       "\t 4               & 213             & 220422 (± 5617) & 12923 (± 605)   & 38             \\\\\n",
       "\t 5               &  21             & 180820 (± 3512) & 12363 (± 425)   & 88             \\\\\n",
       "\t 6               &   7             & 143780 (± 1357) & 9311 (± 135)    & 43             \\\\\n",
       "\t 8               &   1             & 200001 (± NA)   & 10897 (± NA)    & 93             \\\\\n",
       "\\end{tabular}\n"
      ],
      "text/markdown": [
       "\n",
       "| BedroomAbvGr | Count | Average Sale Price | Average Lot Area | Median Age |\n",
       "|---|---|---|---|---|\n",
       "| 0               |   6             | 221494 (± 5472) | 18153 (± 874)   | 30              |\n",
       "| 1               |  50             | 173163 (± 5282) | 7869 (± 287)    | 16              |\n",
       "| 2               | 358             | 158199 (± 4011) | 8484 (± 407)    | 44              |\n",
       "| 3               | 804             | 181058 (± 3272) | 10856 (± 529)   | 32              |\n",
       "| 4               | 213             | 220422 (± 5617) | 12923 (± 605)   | 38              |\n",
       "| 5               |  21             | 180820 (± 3512) | 12363 (± 425)   | 88              |\n",
       "| 6               |   7             | 143780 (± 1357) | 9311 (± 135)    | 43              |\n",
       "| 8               |   1             | 200001 (± NA)   | 10897 (± NA)    | 93              |\n",
       "\n"
      ],
      "text/plain": [
       "  BedroomAbvGr Count Average Sale Price Average Lot Area Median Age\n",
       "1 0              6   221494 (± 5472)    18153 (± 874)    30        \n",
       "2 1             50   173163 (± 5282)    7869 (± 287)     16        \n",
       "3 2            358   158199 (± 4011)    8484 (± 407)     44        \n",
       "4 3            804   181058 (± 3272)    10856 (± 529)    32        \n",
       "5 4            213   220422 (± 5617)    12923 (± 605)    38        \n",
       "6 5             21   180820 (± 3512)    12363 (± 425)    88        \n",
       "7 6              7   143780 (± 1357)    9311 (± 135)     43        \n",
       "8 8              1   200001 (± NA)      10897 (± NA)     93        "
      ]
     },
     "metadata": {},
     "output_type": "display_data"
    }
   ],
   "source": [
    "table(data,BedroomAbvGr)"
   ]
  },
  {
   "cell_type": "markdown",
   "metadata": {},
   "source": [
    "**As such, it seems more appropriate to treat the number of bedrooms as a categorical variable with four levels:**\n",
    "- Two bedrooms or less\n",
    "- Three bedrooms\n",
    "- Four bedrooms or more"
   ]
  },
  {
   "cell_type": "code",
   "execution_count": 9,
   "metadata": {},
   "outputs": [],
   "source": [
    "data[,\"Bedrooms\"]<-NA\n",
    "for(i in 1:nrow(data)){\n",
    "    if(data[i,\"BedroomAbvGr\"] <= 2){\n",
    "        data[i,\"Bedrooms\"]<-\"2 or less\"\n",
    "    }else if(data[i,\"BedroomAbvGr\"] == 3){\n",
    "        data[i,\"Bedrooms\"]<-\"3\"\n",
    "    }else{\n",
    "        data[i,\"Bedrooms\"]<-\"4\"\n",
    "    }\n",
    "}\n",
    "data[,\"Bedrooms\"]<-as.factor(data[,\"Bedrooms\"])"
   ]
  },
  {
   "cell_type": "code",
   "execution_count": 10,
   "metadata": {},
   "outputs": [
    {
     "data": {
      "text/html": [
       "<table>\n",
       "<thead><tr><th scope=col>Bedrooms</th><th scope=col>Count</th><th scope=col>Average Sale Price</th><th scope=col>Average Lot Area</th><th scope=col>Median Age</th></tr></thead>\n",
       "<tbody>\n",
       "\t<tr><td>2 or less      </td><td>414            </td><td>160923 (± 4217)</td><td>8550 (± 407)   </td><td>38             </td></tr>\n",
       "\t<tr><td>3              </td><td>804            </td><td>181058 (± 3272)</td><td>10856 (± 529)  </td><td>32             </td></tr>\n",
       "\t<tr><td>4              </td><td>242            </td><td>214684 (± 5436)</td><td>12762 (± 582)  </td><td>40             </td></tr>\n",
       "</tbody>\n",
       "</table>\n"
      ],
      "text/latex": [
       "\\begin{tabular}{r|lllll}\n",
       " Bedrooms & Count & Average Sale Price & Average Lot Area & Median Age\\\\\n",
       "\\hline\n",
       "\t 2 or less       & 414             & 160923 (± 4217) & 8550 (± 407)    & 38             \\\\\n",
       "\t 3               & 804             & 181058 (± 3272) & 10856 (± 529)   & 32             \\\\\n",
       "\t 4               & 242             & 214684 (± 5436) & 12762 (± 582)   & 40             \\\\\n",
       "\\end{tabular}\n"
      ],
      "text/markdown": [
       "\n",
       "| Bedrooms | Count | Average Sale Price | Average Lot Area | Median Age |\n",
       "|---|---|---|---|---|\n",
       "| 2 or less       | 414             | 160923 (± 4217) | 8550 (± 407)    | 38              |\n",
       "| 3               | 804             | 181058 (± 3272) | 10856 (± 529)   | 32              |\n",
       "| 4               | 242             | 214684 (± 5436) | 12762 (± 582)   | 40              |\n",
       "\n"
      ],
      "text/plain": [
       "  Bedrooms  Count Average Sale Price Average Lot Area Median Age\n",
       "1 2 or less 414   160923 (± 4217)    8550 (± 407)     38        \n",
       "2 3         804   181058 (± 3272)    10856 (± 529)    32        \n",
       "3 4         242   214684 (± 5436)    12762 (± 582)    40        "
      ]
     },
     "metadata": {},
     "output_type": "display_data"
    }
   ],
   "source": [
    "table(data,Bedrooms)"
   ]
  },
  {
   "cell_type": "code",
   "execution_count": 11,
   "metadata": {},
   "outputs": [
    {
     "data": {
      "image/png": "[encoded data removed]",
      "text/plain": [
       "plot without title"
      ]
     },
     "metadata": {},
     "output_type": "display_data"
    }
   ],
   "source": [
    "options(repr.plot.width = 8, repr.plot.height = 3)\n",
    "\n",
    "age_price_plot<-data%>%\n",
    "    ggplot()+\n",
    "    geom_point(aes(Age, log_price), color = \"dodgerblue4\")+\n",
    "    labs(x = \"Age\", y = \"Log(Price)\")+\n",
    "    scale_x_continuous(breaks = seq(0, 120, 15))+\n",
    "    geom_vline(data = data,aes(xintercept = mean(data[,\"Age\"]), linetype = \"Mean Age\"),\n",
    "                               size = 1.3, color = \"darkred\")+\n",
    "    scale_linetype_manual(values = c(\"Mean Age\" = \"dashed\"))+\n",
    "    theme_bw()+\n",
    "    theme(axis.title = element_text(size = 10, face = \"bold\"),\n",
    "          axis.text = element_text(size = 8),\n",
    "          legend.title = element_blank(),\n",
    "          legend.background = element_blank(),\n",
    "          legend.text = element_text(size = 8, face = \"bold\"),legend.position = c(0.80,0.90))\n",
    "\n",
    "sqf_price_plot<-data%>%\n",
    "    ggplot()+\n",
    "    geom_point(aes(LotArea, log_price), color = \"dodgerblue4\")+\n",
    "    labs(x = \"Log(Lot Area)\", y = \"\")+\n",
    "    theme_bw()+\n",
    "    theme(axis.title = element_text(size = 10, face = \"bold\"),\n",
    "          axis.text = element_text(size = 8))\n",
    "\n",
    "grid.arrange(age_price_plot, sqf_price_plot, ncol = 2, nrow = 1)"
   ]
  },
  {
   "cell_type": "code",
   "execution_count": 12,
   "metadata": {},
   "outputs": [
    {
     "data": {
      "image/png": "[encoded data removed]",
      "text/plain": [
       "plot without title"
      ]
     },
     "metadata": {},
     "output_type": "display_data"
    }
   ],
   "source": [
    "data%>%\n",
    "    ggplot()+\n",
    "    geom_boxplot(aes(HouseStyle, log_price), fill = \"dodgerblue4\")+\n",
    "    theme_bw()+\n",
    "    labs(x = \"Style\", y = \"Log(Price)\")+\n",
    "    theme(axis.title = element_text(size = 10, face = \"bold\"),\n",
    "          axis.text = element_text(size = 8))"
   ]
  },
  {
   "cell_type": "code",
   "execution_count": 15,
   "metadata": {},
   "outputs": [
    {
     "data": {
      "text/plain": [
       "\n",
       "Call:\n",
       "lm(formula = eq, data = data)\n",
       "\n",
       "Residuals:\n",
       "     Min       1Q   Median       3Q      Max \n",
       "-1.24436 -0.14374 -0.00186  0.14564  0.98179 \n",
       "\n",
       "Coefficients:\n",
       "              Estimate Std. Error t value Pr(>|t|)    \n",
       "(Intercept)  9.888e+00  1.227e-01  80.573  < 2e-16 ***\n",
       "LotArea      2.714e-01  1.371e-02  19.792  < 2e-16 ***\n",
       "Age         -1.694e-02  6.560e-04 -25.816  < 2e-16 ***\n",
       "I(Age^2)     9.940e-05  6.765e-06  14.692  < 2e-16 ***\n",
       "Bedrooms3    4.542e-02  1.615e-02   2.812  0.00499 ** \n",
       "Bedrooms4    2.052e-01  2.179e-02   9.420  < 2e-16 ***\n",
       "---\n",
       "Signif. codes:  0 '***' 0.001 '**' 0.01 '*' 0.05 '.' 0.1 ' ' 1\n",
       "\n",
       "Residual standard error: 0.257 on 1454 degrees of freedom\n",
       "Multiple R-squared:  0.5875,\tAdjusted R-squared:  0.586 \n",
       "F-statistic: 414.1 on 5 and 1454 DF,  p-value: < 2.2e-16\n"
      ]
     },
     "metadata": {},
     "output_type": "display_data"
    }
   ],
   "source": [
    "eq<-\"log_price ~ LotArea + Age + I(Age**2) + Bedrooms\"\n",
    "model<-lm(eq, data)\n",
    "summary(model)"
   ]
  },
  {
   "cell_type": "markdown",
   "metadata": {},
   "source": [
    "$$\\hat{log(price)} = 9.89 + 0.27log(Lot Area) - 0.017Age + 0.00099Age^2 + 0.045Three\\text{ } Bedrooms + 0.21Four \\text{ } Bedrooms $$"
   ]
  },
  {
   "cell_type": "markdown",
   "metadata": {},
   "source": [
    "- Every 10% increase in the lot size increases a residential property's sale price by $3\\%$.\n",
    "- Older houses tend to be slightly less expensive. Nonetheless, the age of a house is shown to have decreasing marginal effects on price.\n",
    "- Compared to a house with two bedrooms, a house with an additional bedroom is $4.5\\%$ more expensive on average. Holding everything else constant, a four bedroom house is $21\\%$ more expensive than one with only two or less bedrooms. "
   ]
  },
  {
   "cell_type": "code",
   "execution_count": 40,
   "metadata": {},
   "outputs": [
    {
     "data": {
      "image/png": "[encoded data removed]",
      "text/plain": [
       "plot without title"
      ]
     },
     "metadata": {},
     "output_type": "display_data"
    }
   ],
   "source": [
    "x<-c(1:20)\n",
    "depreciation_rate<-function(x){\n",
    "    -0.017*x + 0.00099*(x**2)\n",
    "}\n",
    "rates<-vector()\n",
    "for(i in 1:length(x)){\n",
    "    rates[i]<-depreciation_rate(x[i])\n",
    "}\n",
    "data.frame(x, rates)%>%\n",
    "    ggplot()+\n",
    "    geom_line(aes(x, rates))+\n",
    "    labs(x = \"Year\", y = \"Depreciation Rate (Non-Cumulative)\")+\n",
    "    scale_x_continuous(breaks = seq(1, 20, 1))+\n",
    "    scale_y_continuous(breaks = seq(-0.10, 0.05,0.01))+\n",
    "    theme_bw()+\n",
    "    theme(axis.title = element_text(size = 10, face = \"bold\"),\n",
    "          axis.text = element_text(size = 8))"
   ]
  }
 ],
 "metadata": {
  "kernelspec": {
   "display_name": "R",
   "language": "R",
   "name": "ir"
  },
  "language_info": {
   "codemirror_mode": "r",
   "file_extension": ".r",
   "mimetype": "text/x-r-source",
   "name": "R",
   "pygments_lexer": "r",
   "version": "3.6.1"
  }
 },
 "nbformat": 4,
 "nbformat_minor": 4
}
