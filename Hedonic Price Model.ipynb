{
 "cells": [
  {
   "cell_type": "code",
   "execution_count": 1,
   "metadata": {},
   "outputs": [],
   "source": [
    "import os\n",
    "import re\n",
    "import pandas as pd\n",
    "import numpy as np\n",
    "import patsy\n",
    "\n",
    "import matplotlib.pyplot as plt\n",
    "import seaborn as sns\n",
    "\n",
    "import statsmodels.api as sm\n",
    "from scipy import stats"
   ]
  },
  {
   "cell_type": "code",
   "execution_count": 2,
   "metadata": {},
   "outputs": [],
   "source": [
    "data_unstructured = pd.read_csv(\"data.csv\")\n",
    "data = data_unstructured\n",
    "data.drop(\"Id\",axis = 1, inplace = True)\n",
    "data[\"SalePrice\"] = np.log(data[\"SalePrice\"] + 1)\n",
    "data.rename(columns = {\"SalePrice\":\"log_price\"},inplace = True)"
   ]
  },
  {
   "cell_type": "code",
   "execution_count": 3,
   "metadata": {},
   "outputs": [
    {
     "name": "stdout",
     "output_type": "stream",
     "text": [
      "Number of Features: 79\n",
      "Number of Observations: 1460\n"
     ]
    }
   ],
   "source": [
    "print(\"Number of Features:\",len(data.columns) - 1)\n",
    "print(\"Number of Observations:\",len(data))"
   ]
  },
  {
   "cell_type": "markdown",
   "metadata": {},
   "source": [
    "## I. Preprocessing"
   ]
  },
  {
   "cell_type": "code",
   "execution_count": 4,
   "metadata": {},
   "outputs": [
    {
     "data": {
      "text/html": [
       "<div>\n",
       "<style scoped>\n",
       "    .dataframe tbody tr th:only-of-type {\n",
       "        vertical-align: middle;\n",
       "    }\n",
       "\n",
       "    .dataframe tbody tr th {\n",
       "        vertical-align: top;\n",
       "    }\n",
       "\n",
       "    .dataframe thead th {\n",
       "        text-align: right;\n",
       "    }\n",
       "</style>\n",
       "<table border=\"1\" class=\"dataframe\">\n",
       "  <thead>\n",
       "    <tr style=\"text-align: right;\">\n",
       "      <th></th>\n",
       "      <th>Feature</th>\n",
       "      <th># Missing</th>\n",
       "      <th>% of Observations</th>\n",
       "    </tr>\n",
       "  </thead>\n",
       "  <tbody>\n",
       "    <tr>\n",
       "      <th>71</th>\n",
       "      <td>PoolQC</td>\n",
       "      <td>1453</td>\n",
       "      <td>0.9952</td>\n",
       "    </tr>\n",
       "    <tr>\n",
       "      <th>73</th>\n",
       "      <td>MiscFeature</td>\n",
       "      <td>1406</td>\n",
       "      <td>0.9630</td>\n",
       "    </tr>\n",
       "    <tr>\n",
       "      <th>5</th>\n",
       "      <td>Alley</td>\n",
       "      <td>1369</td>\n",
       "      <td>0.9377</td>\n",
       "    </tr>\n",
       "    <tr>\n",
       "      <th>72</th>\n",
       "      <td>Fence</td>\n",
       "      <td>1179</td>\n",
       "      <td>0.8075</td>\n",
       "    </tr>\n",
       "    <tr>\n",
       "      <th>56</th>\n",
       "      <td>FireplaceQu</td>\n",
       "      <td>690</td>\n",
       "      <td>0.4726</td>\n",
       "    </tr>\n",
       "    <tr>\n",
       "      <th>2</th>\n",
       "      <td>LotFrontage</td>\n",
       "      <td>259</td>\n",
       "      <td>0.1774</td>\n",
       "    </tr>\n",
       "    <tr>\n",
       "      <th>57</th>\n",
       "      <td>GarageType</td>\n",
       "      <td>81</td>\n",
       "      <td>0.0555</td>\n",
       "    </tr>\n",
       "    <tr>\n",
       "      <th>58</th>\n",
       "      <td>GarageYrBlt</td>\n",
       "      <td>81</td>\n",
       "      <td>0.0555</td>\n",
       "    </tr>\n",
       "    <tr>\n",
       "      <th>59</th>\n",
       "      <td>GarageFinish</td>\n",
       "      <td>81</td>\n",
       "      <td>0.0555</td>\n",
       "    </tr>\n",
       "    <tr>\n",
       "      <th>62</th>\n",
       "      <td>GarageQual</td>\n",
       "      <td>81</td>\n",
       "      <td>0.0555</td>\n",
       "    </tr>\n",
       "    <tr>\n",
       "      <th>63</th>\n",
       "      <td>GarageCond</td>\n",
       "      <td>81</td>\n",
       "      <td>0.0555</td>\n",
       "    </tr>\n",
       "    <tr>\n",
       "      <th>31</th>\n",
       "      <td>BsmtExposure</td>\n",
       "      <td>38</td>\n",
       "      <td>0.0260</td>\n",
       "    </tr>\n",
       "    <tr>\n",
       "      <th>34</th>\n",
       "      <td>BsmtFinType2</td>\n",
       "      <td>38</td>\n",
       "      <td>0.0260</td>\n",
       "    </tr>\n",
       "    <tr>\n",
       "      <th>32</th>\n",
       "      <td>BsmtFinType1</td>\n",
       "      <td>37</td>\n",
       "      <td>0.0253</td>\n",
       "    </tr>\n",
       "    <tr>\n",
       "      <th>30</th>\n",
       "      <td>BsmtCond</td>\n",
       "      <td>37</td>\n",
       "      <td>0.0253</td>\n",
       "    </tr>\n",
       "    <tr>\n",
       "      <th>29</th>\n",
       "      <td>BsmtQual</td>\n",
       "      <td>37</td>\n",
       "      <td>0.0253</td>\n",
       "    </tr>\n",
       "    <tr>\n",
       "      <th>25</th>\n",
       "      <td>MasVnrArea</td>\n",
       "      <td>8</td>\n",
       "      <td>0.0055</td>\n",
       "    </tr>\n",
       "    <tr>\n",
       "      <th>24</th>\n",
       "      <td>MasVnrType</td>\n",
       "      <td>8</td>\n",
       "      <td>0.0055</td>\n",
       "    </tr>\n",
       "    <tr>\n",
       "      <th>41</th>\n",
       "      <td>Electrical</td>\n",
       "      <td>1</td>\n",
       "      <td>0.0007</td>\n",
       "    </tr>\n",
       "  </tbody>\n",
       "</table>\n",
       "</div>"
      ],
      "text/plain": [
       "         Feature  # Missing  % of Observations\n",
       "71        PoolQC       1453             0.9952\n",
       "73   MiscFeature       1406             0.9630\n",
       "5          Alley       1369             0.9377\n",
       "72         Fence       1179             0.8075\n",
       "56   FireplaceQu        690             0.4726\n",
       "2    LotFrontage        259             0.1774\n",
       "57    GarageType         81             0.0555\n",
       "58   GarageYrBlt         81             0.0555\n",
       "59  GarageFinish         81             0.0555\n",
       "62    GarageQual         81             0.0555\n",
       "63    GarageCond         81             0.0555\n",
       "31  BsmtExposure         38             0.0260\n",
       "34  BsmtFinType2         38             0.0260\n",
       "32  BsmtFinType1         37             0.0253\n",
       "30      BsmtCond         37             0.0253\n",
       "29      BsmtQual         37             0.0253\n",
       "25    MasVnrArea          8             0.0055\n",
       "24    MasVnrType          8             0.0055\n",
       "41    Electrical          1             0.0007"
      ]
     },
     "execution_count": 4,
     "metadata": {},
     "output_type": "execute_result"
    }
   ],
   "source": [
    "missing_data = data.isna().sum().reset_index()\n",
    "missing_data.columns = [\"Feature\",\"# Missing\"]\n",
    "missing_data = missing_data[missing_data[\"# Missing\"] > 0].sort_values(by = \"# Missing\",ascending=False)\n",
    "missing_data[\"% of Observations\"] = (missing_data[\"# Missing\"] / len(data)).round(4)\n",
    "missing_data"
   ]
  },
  {
   "cell_type": "code",
   "execution_count": 5,
   "metadata": {},
   "outputs": [
    {
     "name": "stdout",
     "output_type": "stream",
     "text": [
      "Number of Features with Missing Observations: 19\n"
     ]
    }
   ],
   "source": [
    "print(\"Number of Features with Missing Observations:\",len(missing_data))"
   ]
  },
  {
   "cell_type": "markdown",
   "metadata": {},
   "source": [
    "**Features with $\\geq 80\\%$ of missing observations are removed from the design matrix:**\n",
    "- *PoolQC:* pool quality \n",
    "- *MiscFeature:* features not covered in other categories\n",
    "- *Alley* \n",
    "- *Fence:* fence quality"
   ]
  },
  {
   "cell_type": "code",
   "execution_count": 6,
   "metadata": {},
   "outputs": [],
   "source": [
    "data.drop([\"PoolQC\",\"MiscFeature\",\"Alley\",\"Fence\"],axis = 1,inplace = True)"
   ]
  },
  {
   "cell_type": "markdown",
   "metadata": {},
   "source": [
    "**The missing values among the following regressors simply indicate that the property doesn't have a basement, garage, and/or a fireplace:**\n",
    "\n",
    "- *BsmtQual, BsmtCond, BsmtFinType1, BsmtFinType2, BsmtExposure*\n",
    "- *GarageCond, GarageQual, GarageFinish, GarageYrBuilt, GarageType*\n",
    "- *FireplaceQu*\n",
    "\n",
    "**$NAs$ in *GarageYrBuilt*, the year a garage was built, are replaced with $1$. Categorical variables are imputed with \"Not applicable.\"**"
   ]
  },
  {
   "cell_type": "code",
   "execution_count": 7,
   "metadata": {},
   "outputs": [],
   "source": [
    "data[\"GarageYrBlt\"].fillna(1,inplace = True)\n",
    "index = [\"GarageCond\",\"GarageQual\",\"GarageFinish\",\n",
    "         \"GarageType\",\"BsmtQual\",\"BsmtCond\",\"BsmtFinType1\",\n",
    "         \"BsmtFinType2\",\"BsmtExposure\",\"FireplaceQu\"]\n",
    "data[index] = data[index].fillna(\"Not Applicable\")"
   ]
  },
  {
   "cell_type": "markdown",
   "metadata": {},
   "source": [
    "**Unconditional mean/mode imputations are applied to the following features that are only missing $\\leq 0.5\\%$:**\n",
    "- *Electrical*\n",
    "- *MasVnrType:* masonvy veneer type\n",
    "- *MasVnrArea:* masonry veneer area in square feet"
   ]
  },
  {
   "cell_type": "code",
   "execution_count": 9,
   "metadata": {},
   "outputs": [],
   "source": [
    "electrical_mode = stats.mode(data[\"Electrical\"])[0][0]\n",
    "masvnrtype_mode = stats.mode(data[\"MasVnrType\"])[0][0]\n",
    "masvnrarea_mean = np.mean(data[\"MasVnrArea\"])\n",
    "\n",
    "data.fillna({\"Electrical\":electrical_mode,\n",
    "             \"MasVnrType\":masvnrtype_mode,\n",
    "             \"MasVnrArea\":masvnrarea_mean},inplace = True)"
   ]
  },
  {
   "cell_type": "markdown",
   "metadata": {},
   "source": [
    "**Lastly, the linear feet of street connected to the property (*LotFrontage*) is unavailable for $17\\%$ of observations. While mean imputation is nonetheless a valid approach, missing *LotFrontage* are instead imputed conditional on lot size:**\n",
    "\n",
    "$$LotFrontage = \\beta_0 + \\beta_1 LotArea + e$$"
   ]
  },
  {
   "cell_type": "code",
   "execution_count": 10,
   "metadata": {},
   "outputs": [],
   "source": [
    "#model fitting\n",
    "eq = \"LotFrontage ~ -1 + LotArea\"\n",
    "y, X = patsy.dmatrices(eq,data,return_type=\"dataframe\")\n",
    "X = sm.add_constant(X)\n",
    "ols = sm.OLS(y,X).fit()\n",
    "\n",
    "#conditional imputation\n",
    "predictions = ols.predict(sm.add_constant(data.loc[data[\"LotFrontage\"].isna(),\"LotArea\"]))\n",
    "data.loc[data[\"LotFrontage\"].isna(),\"LotFrontage\"] = predictions"
   ]
  },
  {
   "cell_type": "markdown",
   "metadata": {},
   "source": [
    "**For interpretability, the log transformation is applied to all independent variables measured in square footage:**"
   ]
  },
  {
   "cell_type": "code",
   "execution_count": 11,
   "metadata": {},
   "outputs": [
    {
     "name": "stdout",
     "output_type": "stream",
     "text": [
      "['LotArea', 'MasVnrArea', 'BsmtFinSF1', 'BsmtFinSF2', 'BsmtUnfSF', 'TotalBsmtSF', '1stFlrSF', '2ndFlrSF', 'LowQualFinSF', 'GrLivArea', 'GarageArea', 'WoodDeckSF', 'OpenPorchSF', 'EnclosedPorch', '3SsnPorch', 'ScreenPorch', 'PoolArea']\n"
     ]
    }
   ],
   "source": [
    "features = list(data.columns)\n",
    "\n",
    "pattern = re.compile(\".*(Area|SF|SF1|SF2|Porch)$\")\n",
    "sqf_features = list(filter(pattern.match, features)) \n",
    "print(sqf_features)"
   ]
  },
  {
   "cell_type": "code",
   "execution_count": 12,
   "metadata": {},
   "outputs": [],
   "source": [
    "for i in sqf_features:\n",
    "    data[i] = np.log(data[i] + 1)"
   ]
  },
  {
   "cell_type": "markdown",
   "metadata": {},
   "source": [
    "**The age of the properties can be obtained by taking the difference between the year they were sold and the year they were built:**\n",
    "\n",
    "$$Age = YrSold - YearBuilt$$"
   ]
  },
  {
   "cell_type": "code",
   "execution_count": 13,
   "metadata": {},
   "outputs": [],
   "source": [
    "data[\"Age\"] = data[\"YrSold\"] - data[\"YearBuilt\"]"
   ]
  },
  {
   "cell_type": "markdown",
   "metadata": {},
   "source": [
    "**Recall that not all properties have a basement, garage, and/or fireplace. They are denoted by \"Not Applicable\" under the corresponding features that relate to these characteristics. However, it would still be informative to create categorical variables for whether or not a property contains these features:**"
   ]
  },
  {
   "cell_type": "code",
   "execution_count": 14,
   "metadata": {},
   "outputs": [],
   "source": [
    "def hasX(conditional):\n",
    "    result = []\n",
    "    for i in range(0,len(data)):\n",
    "        if data.loc[i,conditional] == \"Not Applicable\":\n",
    "            result.append(\"No\")\n",
    "        else:\n",
    "            result.append(\"Yes\")\n",
    "    return result\n",
    "\n",
    "data[\"HasBasement\"] = hasX(\"BsmtCond\")\n",
    "data[\"HasGarage\"] = hasX(\"GarageCond\")\n",
    "data[\"HasFireplace\"] = hasX(\"FireplaceQu\") "
   ]
  },
  {
   "cell_type": "code",
   "execution_count": 15,
   "metadata": {},
   "outputs": [
    {
     "name": "stdout",
     "output_type": "stream",
     "text": [
      "Number of Features: 79\n",
      "Number of Observations: 1460\n",
      "Number of Observations with Missing Data: 0\n"
     ]
    }
   ],
   "source": [
    "print(\"Number of Features:\",len(data.columns) - 1)\n",
    "print(\"Number of Observations:\",len(data))\n",
    "print(\"Number of Observations with Missing Data:\",data.isna().sum().sum())"
   ]
  },
  {
   "cell_type": "markdown",
   "metadata": {},
   "source": [
    "**The final step of preprocessing is the conversion of the features to correct data types:**"
   ]
  },
  {
   "cell_type": "code",
   "execution_count": 16,
   "metadata": {},
   "outputs": [],
   "source": [
    "categorical = ['MSSubClass', 'MSZoning', 'Street','LotShape', 'LandContour', 'Utilities', \n",
    "               'LotConfig', 'LandSlope', 'Neighborhood', 'Condition1', 'Condition2', 'BldgType', \n",
    "               'HouseStyle', 'RoofStyle', 'RoofMatl', 'Exterior1st', 'Exterior2nd', 'MasVnrType', \n",
    "               'ExterQual', 'ExterCond', 'Foundation', 'BsmtQual', 'BsmtCond','BsmtExposure', \n",
    "               'BsmtFinType1', 'BsmtFinType2','Heating', 'HeatingQC','CentralAir', 'Electrical', \n",
    "               'KitchenQual', 'Functional', 'FireplaceQu', 'GarageType', 'GarageFinish', 'GarageQual', \n",
    "               'GarageCond', 'PavedDrive', 'SaleType', 'SaleCondition', 'HasBasement', 'HasGarage',\n",
    "               'HasFireplace']\n",
    "\n",
    "integers = ['Age','YrSold','MoSold',\"Fireplaces\",'GarageYrBlt','BsmtFullBath','BsmtHalfBath',\n",
    "            'FullBath','HalfBath', 'BedroomAbvGr','KitchenAbvGr','TotRmsAbvGrd','GarageCars',\n",
    "            'YearRemodAdd','YearBuilt','OverallQual','OverallCond']\n",
    "\n",
    "for i in data.columns:\n",
    "    if i in categorical:\n",
    "        data[i] = data[i].astype(\"category\")\n",
    "    elif i in integers:\n",
    "        data[i] = data[i].astype(\"int\")\n",
    "    else:\n",
    "        data[i] = data[i].astype(\"float\")"
   ]
  },
  {
   "cell_type": "markdown",
   "metadata": {},
   "source": [
    "### II. EDA"
   ]
  },
  {
   "cell_type": "code",
   "execution_count": 17,
   "metadata": {
    "scrolled": false
   },
   "outputs": [
    {
     "data": {
      "image/png": "[encoded data removed]",
      "text/plain": [
       "<Figure size 936x720 with 1 Axes>"
      ]
     },
     "metadata": {
      "needs_background": "light"
     },
     "output_type": "display_data"
    }
   ],
   "source": [
    "correlations = data.corr()\n",
    "correlations = correlations[\"log_price\"].reset_index()\n",
    "correlations.rename(columns = {\"index\":\"Numerical Feature\",\n",
    "                               \"log_price\":\"Correlation\"},inplace = True)\n",
    "correlations = correlations.sort_values(by = \"Correlation\",ascending = False)[1:]\n",
    "\n",
    "figure,axis = plt.subplots(figsize = (13,10))\n",
    "axis.barh(correlations.iloc[:,0],correlations.iloc[:,1],color = \"green\")\n",
    "axis.set_title(\"Correlation Between Numerical Features and Sale Price\",fontsize = 20,fontweight = \"bold\")\n",
    "axis.set_ylabel(ylabel = \"Feature\",fontsize = 15,fontweight = \"bold\")\n",
    "axis.tick_params(axis = \"x\", labelsize = 15)\n",
    "axis.invert_yaxis()"
   ]
  }
 ],
 "metadata": {
  "kernelspec": {
   "display_name": "Python 3",
   "language": "python",
   "name": "python3"
  },
  "language_info": {
   "codemirror_mode": {
    "name": "ipython",
    "version": 3
   },
   "file_extension": ".py",
   "mimetype": "text/x-python",
   "name": "python",
   "nbconvert_exporter": "python",
   "pygments_lexer": "ipython3",
   "version": "3.7.6"
  }
 },
 "nbformat": 4,
 "nbformat_minor": 4
}
