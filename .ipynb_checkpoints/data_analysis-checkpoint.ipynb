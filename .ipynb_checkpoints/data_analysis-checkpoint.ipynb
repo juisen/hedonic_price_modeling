{
 "cells": [
  {
   "cell_type": "code",
   "execution_count": 14,
   "metadata": {},
   "outputs": [],
   "source": [
    "options(warn=-1)\n",
    "suppressWarnings({\n",
    "    libs <- c(\"tidyverse\",\"gridExtra\",\"estimatr\")\n",
    "load.libs <- function(x){\n",
    "  for(i in x){\n",
    "    if(!require(i,character.only = TRUE )){\n",
    "      install.packages(i,dependencies = TRUE )\n",
    "      library(i,character.only = TRUE )\n",
    "    }\n",
    "  }\n",
    "}\n",
    "load.libs(libs)\n",
    "})\n",
    "\n",
    "equation<-function(response, covariates){\n",
    "    result<-paste(response, \"~ \", sep = \" \")\n",
    "    for(i in 1:length(covariates)){\n",
    "        if(i == length(covariates)){\n",
    "            result<-paste0(result, covariates[i])\n",
    "        }else{\n",
    "            result<-paste0(result, covariates[i], sep = \"+\")\n",
    "        }  \n",
    "    }\n",
    "    return(as.formula(result))\n",
    "}\n",
    "\n",
    "ols<-function(response, covariates, data){\n",
    "    eq<-equation(response, covariates)\n",
    "    model<-lm(eq, data)\n",
    "    return(model)\n",
    "}"
   ]
  },
  {
   "cell_type": "code",
   "execution_count": 1,
   "metadata": {},
   "outputs": [],
   "source": [
    "data_preprocessed = read.csv(\"data/data_preprocessed.csv\", header = T)\n",
    "data = data_preprocessed\n",
    "data[\"sold_during_recession\"]<-as.factor(data[,\"sold_during_recession\"])"
   ]
  },
  {
   "cell_type": "code",
   "execution_count": 2,
   "metadata": {},
   "outputs": [
    {
     "data": {
      "text/html": [
       "<table>\n",
       "<thead><tr><th scope=col>MSSubClass</th><th scope=col>MSZoning</th><th scope=col>LotFrontage</th><th scope=col>log_LotArea</th><th scope=col>Street</th><th scope=col>LotShape</th><th scope=col>LandContour</th><th scope=col>Utilities</th><th scope=col>LotConfig</th><th scope=col>LandSlope</th><th scope=col>...</th><th scope=col>SaleCondition</th><th scope=col>SalePrice</th><th scope=col>adjusted_price</th><th scope=col>log_price</th><th scope=col>Age</th><th scope=col>HasBasement</th><th scope=col>HasGarage</th><th scope=col>HasFireplace</th><th scope=col>month_year</th><th scope=col>sold_during_recession</th></tr></thead>\n",
       "<tbody>\n",
       "\t<tr><td>60       </td><td>RL       </td><td>65       </td><td>9.042040 </td><td>Pave     </td><td>Reg      </td><td>Lvl      </td><td>AllPub   </td><td>Inside   </td><td>Gtl      </td><td>...      </td><td>Normal   </td><td>208500   </td><td>1918200  </td><td>14.46690 </td><td> 5       </td><td>Yes      </td><td>Yes      </td><td>No       </td><td>Feb 2008 </td><td>Yes      </td></tr>\n",
       "\t<tr><td>20       </td><td>RL       </td><td>80       </td><td>9.169623 </td><td>Pave     </td><td>Reg      </td><td>Lvl      </td><td>AllPub   </td><td>FR2      </td><td>Gtl      </td><td>...      </td><td>Normal   </td><td>181500   </td><td>1669800  </td><td>14.32822 </td><td>31       </td><td>Yes      </td><td>Yes      </td><td>Yes      </td><td>May 2007 </td><td>No       </td></tr>\n",
       "\t<tr><td>60       </td><td>RL       </td><td>68       </td><td>9.328212 </td><td>Pave     </td><td>IR1      </td><td>Lvl      </td><td>AllPub   </td><td>Inside   </td><td>Gtl      </td><td>...      </td><td>Normal   </td><td>223500   </td><td>2056200  </td><td>14.53637 </td><td> 7       </td><td>Yes      </td><td>Yes      </td><td>Yes      </td><td>Sept 2008</td><td>Yes      </td></tr>\n",
       "\t<tr><td>70       </td><td>RL       </td><td>60       </td><td>9.164401 </td><td>Pave     </td><td>IR1      </td><td>Lvl      </td><td>AllPub   </td><td>Corner   </td><td>Gtl      </td><td>...      </td><td>Abnorml  </td><td>140000   </td><td>1288000  </td><td>14.06860 </td><td>91       </td><td>Yes      </td><td>Yes      </td><td>Yes      </td><td>Feb 2006 </td><td>No       </td></tr>\n",
       "\t<tr><td>60       </td><td>RL       </td><td>84       </td><td>9.565284 </td><td>Pave     </td><td>IR1      </td><td>Lvl      </td><td>AllPub   </td><td>FR2      </td><td>Gtl      </td><td>...      </td><td>Normal   </td><td>250000   </td><td>2300000  </td><td>14.64842 </td><td> 8       </td><td>Yes      </td><td>Yes      </td><td>Yes      </td><td>Dec 2008 </td><td>Yes      </td></tr>\n",
       "\t<tr><td>50       </td><td>RL       </td><td>85       </td><td>9.555064 </td><td>Pave     </td><td>IR1      </td><td>Lvl      </td><td>AllPub   </td><td>Inside   </td><td>Gtl      </td><td>...      </td><td>Normal   </td><td>143000   </td><td>1315600  </td><td>14.08980 </td><td>16       </td><td>Yes      </td><td>Yes      </td><td>No       </td><td>Oct 2009 </td><td>No       </td></tr>\n",
       "</tbody>\n",
       "</table>\n"
      ],
      "text/latex": [
       "\\begin{tabular}{r|llllllllllllllllllllllllllllllllllllllllllllllllllllllllllllllllllllllllllllllllllll}\n",
       " MSSubClass & MSZoning & LotFrontage & log\\_LotArea & Street & LotShape & LandContour & Utilities & LotConfig & LandSlope & ... & SaleCondition & SalePrice & adjusted\\_price & log\\_price & Age & HasBasement & HasGarage & HasFireplace & month\\_year & sold\\_during\\_recession\\\\\n",
       "\\hline\n",
       "\t 60        & RL        & 65        & 9.042040  & Pave      & Reg       & Lvl       & AllPub    & Inside    & Gtl       & ...       & Normal    & 208500    & 1918200   & 14.46690  &  5        & Yes       & Yes       & No        & Feb 2008  & Yes      \\\\\n",
       "\t 20        & RL        & 80        & 9.169623  & Pave      & Reg       & Lvl       & AllPub    & FR2       & Gtl       & ...       & Normal    & 181500    & 1669800   & 14.32822  & 31        & Yes       & Yes       & Yes       & May 2007  & No       \\\\\n",
       "\t 60        & RL        & 68        & 9.328212  & Pave      & IR1       & Lvl       & AllPub    & Inside    & Gtl       & ...       & Normal    & 223500    & 2056200   & 14.53637  &  7        & Yes       & Yes       & Yes       & Sept 2008 & Yes      \\\\\n",
       "\t 70        & RL        & 60        & 9.164401  & Pave      & IR1       & Lvl       & AllPub    & Corner    & Gtl       & ...       & Abnorml   & 140000    & 1288000   & 14.06860  & 91        & Yes       & Yes       & Yes       & Feb 2006  & No       \\\\\n",
       "\t 60        & RL        & 84        & 9.565284  & Pave      & IR1       & Lvl       & AllPub    & FR2       & Gtl       & ...       & Normal    & 250000    & 2300000   & 14.64842  &  8        & Yes       & Yes       & Yes       & Dec 2008  & Yes      \\\\\n",
       "\t 50        & RL        & 85        & 9.555064  & Pave      & IR1       & Lvl       & AllPub    & Inside    & Gtl       & ...       & Normal    & 143000    & 1315600   & 14.08980  & 16        & Yes       & Yes       & No        & Oct 2009  & No       \\\\\n",
       "\\end{tabular}\n"
      ],
      "text/markdown": [
       "\n",
       "| MSSubClass | MSZoning | LotFrontage | log_LotArea | Street | LotShape | LandContour | Utilities | LotConfig | LandSlope | ... | SaleCondition | SalePrice | adjusted_price | log_price | Age | HasBasement | HasGarage | HasFireplace | month_year | sold_during_recession |\n",
       "|---|---|---|---|---|---|---|---|---|---|---|---|---|---|---|---|---|---|---|---|---|\n",
       "| 60        | RL        | 65        | 9.042040  | Pave      | Reg       | Lvl       | AllPub    | Inside    | Gtl       | ...       | Normal    | 208500    | 1918200   | 14.46690  |  5        | Yes       | Yes       | No        | Feb 2008  | Yes       |\n",
       "| 20        | RL        | 80        | 9.169623  | Pave      | Reg       | Lvl       | AllPub    | FR2       | Gtl       | ...       | Normal    | 181500    | 1669800   | 14.32822  | 31        | Yes       | Yes       | Yes       | May 2007  | No        |\n",
       "| 60        | RL        | 68        | 9.328212  | Pave      | IR1       | Lvl       | AllPub    | Inside    | Gtl       | ...       | Normal    | 223500    | 2056200   | 14.53637  |  7        | Yes       | Yes       | Yes       | Sept 2008 | Yes       |\n",
       "| 70        | RL        | 60        | 9.164401  | Pave      | IR1       | Lvl       | AllPub    | Corner    | Gtl       | ...       | Abnorml   | 140000    | 1288000   | 14.06860  | 91        | Yes       | Yes       | Yes       | Feb 2006  | No        |\n",
       "| 60        | RL        | 84        | 9.565284  | Pave      | IR1       | Lvl       | AllPub    | FR2       | Gtl       | ...       | Normal    | 250000    | 2300000   | 14.64842  |  8        | Yes       | Yes       | Yes       | Dec 2008  | Yes       |\n",
       "| 50        | RL        | 85        | 9.555064  | Pave      | IR1       | Lvl       | AllPub    | Inside    | Gtl       | ...       | Normal    | 143000    | 1315600   | 14.08980  | 16        | Yes       | Yes       | No        | Oct 2009  | No        |\n",
       "\n"
      ],
      "text/plain": [
       "  MSSubClass MSZoning LotFrontage log_LotArea Street LotShape LandContour\n",
       "1 60         RL       65          9.042040    Pave   Reg      Lvl        \n",
       "2 20         RL       80          9.169623    Pave   Reg      Lvl        \n",
       "3 60         RL       68          9.328212    Pave   IR1      Lvl        \n",
       "4 70         RL       60          9.164401    Pave   IR1      Lvl        \n",
       "5 60         RL       84          9.565284    Pave   IR1      Lvl        \n",
       "6 50         RL       85          9.555064    Pave   IR1      Lvl        \n",
       "  Utilities LotConfig LandSlope ... SaleCondition SalePrice adjusted_price\n",
       "1 AllPub    Inside    Gtl       ... Normal        208500    1918200       \n",
       "2 AllPub    FR2       Gtl       ... Normal        181500    1669800       \n",
       "3 AllPub    Inside    Gtl       ... Normal        223500    2056200       \n",
       "4 AllPub    Corner    Gtl       ... Abnorml       140000    1288000       \n",
       "5 AllPub    FR2       Gtl       ... Normal        250000    2300000       \n",
       "6 AllPub    Inside    Gtl       ... Normal        143000    1315600       \n",
       "  log_price Age HasBasement HasGarage HasFireplace month_year\n",
       "1 14.46690   5  Yes         Yes       No           Feb 2008  \n",
       "2 14.32822  31  Yes         Yes       Yes          May 2007  \n",
       "3 14.53637   7  Yes         Yes       Yes          Sept 2008 \n",
       "4 14.06860  91  Yes         Yes       Yes          Feb 2006  \n",
       "5 14.64842   8  Yes         Yes       Yes          Dec 2008  \n",
       "6 14.08980  16  Yes         Yes       No           Oct 2009  \n",
       "  sold_during_recession\n",
       "1 Yes                  \n",
       "2 No                   \n",
       "3 Yes                  \n",
       "4 No                   \n",
       "5 Yes                  \n",
       "6 No                   "
      ]
     },
     "metadata": {},
     "output_type": "display_data"
    }
   ],
   "source": [
    "head(data)"
   ]
  },
  {
   "cell_type": "code",
   "execution_count": 4,
   "metadata": {},
   "outputs": [],
   "source": [
    "table<-function(x,...){\n",
    "    x%>%\n",
    "    group_by(...)%>%\n",
    "    summarise(mean_price = round(mean(exp(log_price)), 0),\n",
    "              ci_price = paste0(\"\\u00B1 \", round(1.96*(sd(exp(log_price)) / sqrt(nrow(data))), 0)),\n",
    "              mean_sq = round(mean(exp(log_LotArea)), 0),\n",
    "              ci_sq = paste0(\"\\u00B1 \", round(1.96*(sd(exp(log_LotArea)) / sqrt(nrow(data))), 0)),\n",
    "              Count = n(),\n",
    "              \"Average Sale Price\" = paste0(mean_price, \" (\", ci_price, \")\"),\n",
    "              \"Average Lot Area\" = paste0(mean_sq, \" (\", ci_sq, \")\"),\n",
    "              \"Median Age\" = round(median(Age),0))%>%\n",
    "    select(-c(mean_sq, ci_sq, mean_price, ci_price))\n",
    "}"
   ]
  },
  {
   "cell_type": "code",
   "execution_count": 5,
   "metadata": {},
   "outputs": [
    {
     "data": {
      "text/html": [
       "<table>\n",
       "<thead><tr><th scope=col>House Style</th><th scope=col>Count</th><th scope=col>Average Sale Price</th><th scope=col>Average Lot Area</th><th scope=col>Median Age</th></tr></thead>\n",
       "<tbody>\n",
       "\t<tr><td>1.5Fin           </td><td>154              </td><td>1316675 (± 25615)</td><td>11450 (± 916)    </td><td>70               </td></tr>\n",
       "\t<tr><td>1.5Unf           </td><td> 14              </td><td>1013381 (± 8984) </td><td>7120 (± 94)      </td><td>78               </td></tr>\n",
       "\t<tr><td>1Story           </td><td>726              </td><td>1619067 (± 36364)</td><td>10645 (± 525)    </td><td>36               </td></tr>\n",
       "\t<tr><td>2.5Fin           </td><td>  8              </td><td>2024001 (± 55786)</td><td>12469 (± 315)    </td><td>94               </td></tr>\n",
       "\t<tr><td>2.5Unf           </td><td> 11              </td><td>1447663 (± 30172)</td><td>9154 (± 116)     </td><td>93               </td></tr>\n",
       "\t<tr><td>2Story           </td><td>445              </td><td>1932477 (± 41217)</td><td>10326 (± 330)    </td><td>13               </td></tr>\n",
       "\t<tr><td>SFoyer           </td><td> 37              </td><td>1242686 (± 14385)</td><td>7674 (± 182)     </td><td>32               </td></tr>\n",
       "\t<tr><td>SLvl             </td><td> 65              </td><td>1533672 (± 18077)</td><td>10539 (± 176)    </td><td>37               </td></tr>\n",
       "</tbody>\n",
       "</table>\n"
      ],
      "text/latex": [
       "\\begin{tabular}{r|lllll}\n",
       " House Style & Count & Average Sale Price & Average Lot Area & Median Age\\\\\n",
       "\\hline\n",
       "\t 1.5Fin            & 154               & 1316675 (± 25615) & 11450 (± 916)     & 70               \\\\\n",
       "\t 1.5Unf            &  14               & 1013381 (± 8984)  & 7120 (± 94)       & 78               \\\\\n",
       "\t 1Story            & 726               & 1619067 (± 36364) & 10645 (± 525)     & 36               \\\\\n",
       "\t 2.5Fin            &   8               & 2024001 (± 55786) & 12469 (± 315)     & 94               \\\\\n",
       "\t 2.5Unf            &  11               & 1447663 (± 30172) & 9154 (± 116)      & 93               \\\\\n",
       "\t 2Story            & 445               & 1932477 (± 41217) & 10326 (± 330)     & 13               \\\\\n",
       "\t SFoyer            &  37               & 1242686 (± 14385) & 7674 (± 182)      & 32               \\\\\n",
       "\t SLvl              &  65               & 1533672 (± 18077) & 10539 (± 176)     & 37               \\\\\n",
       "\\end{tabular}\n"
      ],
      "text/markdown": [
       "\n",
       "| House Style | Count | Average Sale Price | Average Lot Area | Median Age |\n",
       "|---|---|---|---|---|\n",
       "| 1.5Fin            | 154               | 1316675 (± 25615) | 11450 (± 916)     | 70                |\n",
       "| 1.5Unf            |  14               | 1013381 (± 8984)  | 7120 (± 94)       | 78                |\n",
       "| 1Story            | 726               | 1619067 (± 36364) | 10645 (± 525)     | 36                |\n",
       "| 2.5Fin            |   8               | 2024001 (± 55786) | 12469 (± 315)     | 94                |\n",
       "| 2.5Unf            |  11               | 1447663 (± 30172) | 9154 (± 116)      | 93                |\n",
       "| 2Story            | 445               | 1932477 (± 41217) | 10326 (± 330)     | 13                |\n",
       "| SFoyer            |  37               | 1242686 (± 14385) | 7674 (± 182)      | 32                |\n",
       "| SLvl              |  65               | 1533672 (± 18077) | 10539 (± 176)     | 37                |\n",
       "\n"
      ],
      "text/plain": [
       "  House Style Count Average Sale Price Average Lot Area Median Age\n",
       "1 1.5Fin      154   1316675 (± 25615)  11450 (± 916)    70        \n",
       "2 1.5Unf       14   1013381 (± 8984)   7120 (± 94)      78        \n",
       "3 1Story      726   1619067 (± 36364)  10645 (± 525)    36        \n",
       "4 2.5Fin        8   2024001 (± 55786)  12469 (± 315)    94        \n",
       "5 2.5Unf       11   1447663 (± 30172)  9154 (± 116)     93        \n",
       "6 2Story      445   1932477 (± 41217)  10326 (± 330)    13        \n",
       "7 SFoyer       37   1242686 (± 14385)  7674 (± 182)     32        \n",
       "8 SLvl         65   1533672 (± 18077)  10539 (± 176)    37        "
      ]
     },
     "metadata": {},
     "output_type": "display_data"
    }
   ],
   "source": [
    "table(data,HouseStyle)%>%\n",
    "    rename(\"House Style\" = \"HouseStyle\")"
   ]
  },
  {
   "cell_type": "code",
   "execution_count": 6,
   "metadata": {},
   "outputs": [
    {
     "data": {
      "text/html": [
       "<table>\n",
       "<thead><tr><th scope=col>Overall Quality</th><th scope=col>Count</th><th scope=col>Average Sale Price</th><th scope=col>Average Lot Area</th><th scope=col>Median Age</th></tr></thead>\n",
       "<tbody>\n",
       "\t<tr><td> 1               </td><td>  2              </td><td>461381 (± 7241)  </td><td>7511 (± 182)     </td><td>74               </td></tr>\n",
       "\t<tr><td> 2               </td><td>  3              </td><td>476288 (± 6727)  </td><td>7841 (± 78)      </td><td>73               </td></tr>\n",
       "\t<tr><td> 3               </td><td> 20              </td><td>804760 (± 11651) </td><td>8360 (± 169)     </td><td>73               </td></tr>\n",
       "\t<tr><td> 4               </td><td>116              </td><td>997471 (± 13696) </td><td>8919 (± 304)     </td><td>54               </td></tr>\n",
       "\t<tr><td> 5               </td><td>397              </td><td>1228416 (± 12792)</td><td>10154 (± 472)    </td><td>49               </td></tr>\n",
       "\t<tr><td> 6               </td><td>374              </td><td>1486749 (± 17032)</td><td>10028 (± 474)    </td><td>37               </td></tr>\n",
       "\t<tr><td> 7               </td><td>319              </td><td>1910992 (± 20984)</td><td>11077 (± 722)    </td><td> 8               </td></tr>\n",
       "\t<tr><td> 8               </td><td>168              </td><td>2527568 (± 30155)</td><td>11105 (± 282)    </td><td> 5               </td></tr>\n",
       "\t<tr><td> 9               </td><td> 43              </td><td>3381121 (± 38357)</td><td>13425 (± 333)    </td><td> 2               </td></tr>\n",
       "\t<tr><td>10               </td><td> 18              </td><td>4035014 (± 75406)</td><td>19871 (± 703)    </td><td> 1               </td></tr>\n",
       "</tbody>\n",
       "</table>\n"
      ],
      "text/latex": [
       "\\begin{tabular}{r|lllll}\n",
       " Overall Quality & Count & Average Sale Price & Average Lot Area & Median Age\\\\\n",
       "\\hline\n",
       "\t  1                &   2               & 461381 (± 7241)   & 7511 (± 182)      & 74               \\\\\n",
       "\t  2                &   3               & 476288 (± 6727)   & 7841 (± 78)       & 73               \\\\\n",
       "\t  3                &  20               & 804760 (± 11651)  & 8360 (± 169)      & 73               \\\\\n",
       "\t  4                & 116               & 997471 (± 13696)  & 8919 (± 304)      & 54               \\\\\n",
       "\t  5                & 397               & 1228416 (± 12792) & 10154 (± 472)     & 49               \\\\\n",
       "\t  6                & 374               & 1486749 (± 17032) & 10028 (± 474)     & 37               \\\\\n",
       "\t  7                & 319               & 1910992 (± 20984) & 11077 (± 722)     &  8               \\\\\n",
       "\t  8                & 168               & 2527568 (± 30155) & 11105 (± 282)     &  5               \\\\\n",
       "\t  9                &  43               & 3381121 (± 38357) & 13425 (± 333)     &  2               \\\\\n",
       "\t 10                &  18               & 4035014 (± 75406) & 19871 (± 703)     &  1               \\\\\n",
       "\\end{tabular}\n"
      ],
      "text/markdown": [
       "\n",
       "| Overall Quality | Count | Average Sale Price | Average Lot Area | Median Age |\n",
       "|---|---|---|---|---|\n",
       "|  1                |   2               | 461381 (± 7241)   | 7511 (± 182)      | 74                |\n",
       "|  2                |   3               | 476288 (± 6727)   | 7841 (± 78)       | 73                |\n",
       "|  3                |  20               | 804760 (± 11651)  | 8360 (± 169)      | 73                |\n",
       "|  4                | 116               | 997471 (± 13696)  | 8919 (± 304)      | 54                |\n",
       "|  5                | 397               | 1228416 (± 12792) | 10154 (± 472)     | 49                |\n",
       "|  6                | 374               | 1486749 (± 17032) | 10028 (± 474)     | 37                |\n",
       "|  7                | 319               | 1910992 (± 20984) | 11077 (± 722)     |  8                |\n",
       "|  8                | 168               | 2527568 (± 30155) | 11105 (± 282)     |  5                |\n",
       "|  9                |  43               | 3381121 (± 38357) | 13425 (± 333)     |  2                |\n",
       "| 10                |  18               | 4035014 (± 75406) | 19871 (± 703)     |  1                |\n",
       "\n"
      ],
      "text/plain": [
       "   Overall Quality Count Average Sale Price Average Lot Area Median Age\n",
       "1   1                2   461381 (± 7241)    7511 (± 182)     74        \n",
       "2   2                3   476288 (± 6727)    7841 (± 78)      73        \n",
       "3   3               20   804760 (± 11651)   8360 (± 169)     73        \n",
       "4   4              116   997471 (± 13696)   8919 (± 304)     54        \n",
       "5   5              397   1228416 (± 12792)  10154 (± 472)    49        \n",
       "6   6              374   1486749 (± 17032)  10028 (± 474)    37        \n",
       "7   7              319   1910992 (± 20984)  11077 (± 722)     8        \n",
       "8   8              168   2527568 (± 30155)  11105 (± 282)     5        \n",
       "9   9               43   3381121 (± 38357)  13425 (± 333)     2        \n",
       "10 10               18   4035014 (± 75406)  19871 (± 703)     1        "
      ]
     },
     "metadata": {},
     "output_type": "display_data"
    }
   ],
   "source": [
    "table(data,OverallQual)%>%\n",
    "    rename(\"Overall Quality\" = \"OverallQual\")"
   ]
  },
  {
   "cell_type": "code",
   "execution_count": 7,
   "metadata": {},
   "outputs": [
    {
     "data": {
      "text/html": [
       "<table>\n",
       "<thead><tr><th scope=col>Overall Condition</th><th scope=col>Count</th><th scope=col>Average Sale Price</th><th scope=col>Average Lot Area</th><th scope=col>Median Age</th></tr></thead>\n",
       "<tbody>\n",
       "\t<tr><td>1                </td><td>  1              </td><td>561201 (± NA)    </td><td>10021 (± NA)     </td><td>87               </td></tr>\n",
       "\t<tr><td>2                </td><td>  5              </td><td>1306276 (± 66702)</td><td>8757 (± 113)     </td><td>87               </td></tr>\n",
       "\t<tr><td>3                </td><td> 25              </td><td>937751 (± 21167) </td><td>9633 (± 290)     </td><td>55               </td></tr>\n",
       "\t<tr><td>4                </td><td> 57              </td><td>1108035 (± 18368)</td><td>10942 (± 337)    </td><td>57               </td></tr>\n",
       "\t<tr><td>5                </td><td>821              </td><td>1868953 (± 40168)</td><td>10611 (± 514)    </td><td>10               </td></tr>\n",
       "\t<tr><td>6                </td><td>252              </td><td>1416448 (± 28663)</td><td>10328 (± 555)    </td><td>47               </td></tr>\n",
       "\t<tr><td>7                </td><td>205              </td><td>1454939 (± 25233)</td><td>10744 (± 595)    </td><td>54               </td></tr>\n",
       "\t<tr><td>8                </td><td> 72              </td><td>1431997 (± 24717)</td><td>9310 (± 293)     </td><td>62               </td></tr>\n",
       "\t<tr><td>9                </td><td> 22              </td><td>1987243 (± 45534)</td><td>11385 (± 262)    </td><td>70               </td></tr>\n",
       "</tbody>\n",
       "</table>\n"
      ],
      "text/latex": [
       "\\begin{tabular}{r|lllll}\n",
       " Overall Condition & Count & Average Sale Price & Average Lot Area & Median Age\\\\\n",
       "\\hline\n",
       "\t 1                 &   1               & 561201 (± NA)     & 10021 (± NA)      & 87               \\\\\n",
       "\t 2                 &   5               & 1306276 (± 66702) & 8757 (± 113)      & 87               \\\\\n",
       "\t 3                 &  25               & 937751 (± 21167)  & 9633 (± 290)      & 55               \\\\\n",
       "\t 4                 &  57               & 1108035 (± 18368) & 10942 (± 337)     & 57               \\\\\n",
       "\t 5                 & 821               & 1868953 (± 40168) & 10611 (± 514)     & 10               \\\\\n",
       "\t 6                 & 252               & 1416448 (± 28663) & 10328 (± 555)     & 47               \\\\\n",
       "\t 7                 & 205               & 1454939 (± 25233) & 10744 (± 595)     & 54               \\\\\n",
       "\t 8                 &  72               & 1431997 (± 24717) & 9310 (± 293)      & 62               \\\\\n",
       "\t 9                 &  22               & 1987243 (± 45534) & 11385 (± 262)     & 70               \\\\\n",
       "\\end{tabular}\n"
      ],
      "text/markdown": [
       "\n",
       "| Overall Condition | Count | Average Sale Price | Average Lot Area | Median Age |\n",
       "|---|---|---|---|---|\n",
       "| 1                 |   1               | 561201 (± NA)     | 10021 (± NA)      | 87                |\n",
       "| 2                 |   5               | 1306276 (± 66702) | 8757 (± 113)      | 87                |\n",
       "| 3                 |  25               | 937751 (± 21167)  | 9633 (± 290)      | 55                |\n",
       "| 4                 |  57               | 1108035 (± 18368) | 10942 (± 337)     | 57                |\n",
       "| 5                 | 821               | 1868953 (± 40168) | 10611 (± 514)     | 10                |\n",
       "| 6                 | 252               | 1416448 (± 28663) | 10328 (± 555)     | 47                |\n",
       "| 7                 | 205               | 1454939 (± 25233) | 10744 (± 595)     | 54                |\n",
       "| 8                 |  72               | 1431997 (± 24717) | 9310 (± 293)      | 62                |\n",
       "| 9                 |  22               | 1987243 (± 45534) | 11385 (± 262)     | 70                |\n",
       "\n"
      ],
      "text/plain": [
       "  Overall Condition Count Average Sale Price Average Lot Area Median Age\n",
       "1 1                   1   561201 (± NA)      10021 (± NA)     87        \n",
       "2 2                   5   1306276 (± 66702)  8757 (± 113)     87        \n",
       "3 3                  25   937751 (± 21167)   9633 (± 290)     55        \n",
       "4 4                  57   1108035 (± 18368)  10942 (± 337)    57        \n",
       "5 5                 821   1868953 (± 40168)  10611 (± 514)    10        \n",
       "6 6                 252   1416448 (± 28663)  10328 (± 555)    47        \n",
       "7 7                 205   1454939 (± 25233)  10744 (± 595)    54        \n",
       "8 8                  72   1431997 (± 24717)  9310 (± 293)     62        \n",
       "9 9                  22   1987243 (± 45534)  11385 (± 262)    70        "
      ]
     },
     "metadata": {},
     "output_type": "display_data"
    }
   ],
   "source": [
    "table(data,OverallCond)%>%\n",
    "    rename(\"Overall Condition\" = \"OverallCond\")"
   ]
  },
  {
   "cell_type": "code",
   "execution_count": 8,
   "metadata": {},
   "outputs": [
    {
     "data": {
      "image/png": "[encoded data removed]",
      "text/plain": [
       "plot without title"
      ]
     },
     "metadata": {},
     "output_type": "display_data"
    }
   ],
   "source": [
    "options(repr.plot.width = 8, repr.plot.height = 3)\n",
    "\n",
    "age_price_plot<-data%>%\n",
    "    ggplot()+\n",
    "    geom_point(aes(Age, log_price), color = \"dodgerblue4\")+\n",
    "    geom_smooth(aes(Age, log_price), formula = y ~ x, method = \"loess\", se = F, color = \"black\")+\n",
    "    scale_x_continuous(breaks = seq(0, 120, 15))+\n",
    "    geom_vline(data = data,aes(xintercept = mean(data[,\"Age\"]), linetype = \"Mean Age\"),\n",
    "                               size = 1.3, color = \"darkred\")+\n",
    "    scale_linetype_manual(values = c(\"Mean Age\" = \"dashed\"))+\n",
    "    labs(x = \"Age\", y = \"Log(Price)\")+\n",
    "    theme_bw()+\n",
    "    theme(axis.title = element_text(size = 10, face = \"bold\"),\n",
    "          axis.text = element_text(size = 8),\n",
    "          legend.title = element_blank(),\n",
    "          legend.background = element_blank(),\n",
    "          legend.text = element_text(size = 8, face = \"bold\"),legend.position = c(0.80, 0.90))\n",
    "\n",
    "sqf_price_plot<-data%>%\n",
    "    ggplot()+\n",
    "    geom_point(aes(log_LotArea, log_price), color = \"dodgerblue4\")+\n",
    "    geom_smooth(aes(log_LotArea, log_price), formula = y ~ x, method = \"loess\", se = F, color = \"black\")+\n",
    "    labs(x = \"Log(Lot Area)\", y = \"\")+\n",
    "    theme_bw()+\n",
    "    theme(axis.title = element_text(size = 10, face = \"bold\"),\n",
    "          axis.text = element_text(size = 8))\n",
    "\n",
    "grid.arrange(age_price_plot, sqf_price_plot, ncol = 2, nrow = 1)"
   ]
  },
  {
   "cell_type": "code",
   "execution_count": 9,
   "metadata": {},
   "outputs": [
    {
     "data": {
      "image/png": "[encoded data removed]",
      "text/plain": [
       "plot without title"
      ]
     },
     "metadata": {},
     "output_type": "display_data"
    }
   ],
   "source": [
    "data%>%\n",
    "    mutate(MoSold = factor(MoSold, \n",
    "                    levels = c(1:12), \n",
    "                    labels = c(\"Jan\", \"Feb\", \"March\", \"April\", \"May\", \"June\", \n",
    "                               \"July\", \"Aug\", \"Sept\", \"Oct\", \"Nov\", \"Dec\")))%>%\n",
    "    ggplot()+\n",
    "    geom_bar(aes(MoSold), width = 0.5, fill = \"dodgerblue4\")+\n",
    "    facet_wrap(~YrSold)+\n",
    "    labs(x = \"Month\", y = \"# of Houses Sold\",\n",
    "         title = \"Number of Houses Sold (Jan 2006 - July 2010)\")+\n",
    "    theme_bw()+\n",
    "    theme(plot.title = element_text(size = 10, face = \"bold\", hjust = 0.5),\n",
    "          axis.title = element_text(size = 10, face = \"bold\"),\n",
    "          axis.text.x = element_text(size = 8, vjust = 0.80, angle = 45.0))"
   ]
  },
  {
   "cell_type": "code",
   "execution_count": 17,
   "metadata": {
    "scrolled": false
   },
   "outputs": [
    {
     "data": {
      "text/plain": [
       "\n",
       "Call:\n",
       "lm(formula = eq, data = data)\n",
       "\n",
       "Residuals:\n",
       "    Min      1Q  Median      3Q     Max \n",
       "-1.1233 -0.1016 -0.0051  0.1023  0.6539 \n",
       "\n",
       "Coefficients:\n",
       "                                       Estimate Std. Error t value Pr(>|t|)    \n",
       "(Intercept)                           1.116e+01  1.127e-01  99.031  < 2e-16 ***\n",
       "Age                                  -7.068e-03  6.071e-04 -11.642  < 2e-16 ***\n",
       "I(Age^2)                              3.176e-05  5.433e-06   5.845 6.24e-09 ***\n",
       "log_LotArea                           1.935e-01  1.199e-02  16.134  < 2e-16 ***\n",
       "sold_during_recessionYes              2.859e-01  1.671e-01   1.711  0.08736 .  \n",
       "OverallQual                           1.392e-01  5.346e-03  26.031  < 2e-16 ***\n",
       "OverallCond                           4.977e-02  4.658e-03  10.685  < 2e-16 ***\n",
       "HasGarageYes                          1.107e-01  2.144e-02   5.164 2.76e-07 ***\n",
       "HasBasementYes                        7.896e-02  3.018e-02   2.616  0.00898 ** \n",
       "HasFireplaceYes                       1.148e-01  1.066e-02  10.770  < 2e-16 ***\n",
       "BedroomAbvGr                          4.766e-02  5.957e-03   8.001 2.51e-15 ***\n",
       "log_LotArea:sold_during_recessionYes -3.189e-02  1.833e-02  -1.740  0.08212 .  \n",
       "---\n",
       "Signif. codes:  0 '***' 0.001 '**' 0.01 '*' 0.05 '.' 0.1 ' ' 1\n",
       "\n",
       "Residual standard error: 0.1756 on 1448 degrees of freedom\n",
       "Multiple R-squared:  0.8082,\tAdjusted R-squared:  0.8067 \n",
       "F-statistic: 554.6 on 11 and 1448 DF,  p-value: < 2.2e-16\n"
      ]
     },
     "metadata": {},
     "output_type": "display_data"
    }
   ],
   "source": [
    "response<-\"log_price\"\n",
    "covariates<-c(\"Age\", \"I(Age^2)\", #depreciation rate\n",
    "              \"log_LotArea\", #elasticity of prices w.r.t to lot area\n",
    "              \"sold_during_recession\", #period\n",
    "              \"sold_during_recession:log_LotArea\", #interaction term\n",
    "              \"OverallQual\",\"OverallCond\", #control variables\n",
    "              \"HasGarage\",\"HasBasement\",\"HasFireplace\", \"BedroomAbvGr\") #hedonic features\n",
    "model<-ols(response, covariates, data)\n",
    "\n",
    "summary(model)"
   ]
  },
  {
   "cell_type": "markdown",
   "metadata": {},
   "source": [
    "$$\\hat{log\\text{(sale price)}} = 11.16 - 0.00707Age + 0.0000318Age^2 + 0.194log(\\text{lot area}) + 0.286recession -0.0319log\\text{(lot area)*}recession + 0.139quality + 0.0498condition + 0.111garage + 0.0790basement + 0.115fireplace + 0.0477bedrooms$$"
   ]
  },
  {
   "cell_type": "markdown",
   "metadata": {},
   "source": [
    "**All the covariates are statistically significant at the 0.10 significance level. In the context of the model, note that the depreciation rate of residential properties is nonlinear through the inclusion of a quadratic term for age. The marginal effect of $log(\\text{lot area})$ on $\\hat{log\\text{(sale price)}}$ is given by**\n",
    "\n",
    "$$\\frac{\\partial\\hat{log\\text{(sale price)}}}{\\partial log(\\text{lot area})} = 0.194 - 0.0319recession$$\n",
    "\n",
    "**where $recession = 1$ if the house was sold during the recession. After controlling for hedonic features and adjusting for inflation, every 10% increase in a residential property's lot area increases its sale price by 1.94% on average if there was no recession. Given the same property during a recession, the return of lot area on the price decreases by 0.32 percentage points from 1.94% to 1.64%.**"
   ]
  }
 ],
 "metadata": {
  "kernelspec": {
   "display_name": "R",
   "language": "R",
   "name": "ir"
  },
  "language_info": {
   "codemirror_mode": "r",
   "file_extension": ".r",
   "mimetype": "text/x-r-source",
   "name": "R",
   "pygments_lexer": "r",
   "version": "3.6.1"
  }
 },
 "nbformat": 4,
 "nbformat_minor": 4
}
