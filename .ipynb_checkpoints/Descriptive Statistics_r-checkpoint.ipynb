{
 "cells": [
  {
   "cell_type": "code",
   "execution_count": 22,
   "metadata": {},
   "outputs": [],
   "source": [
    "library(tidyverse)\n",
    "library(gridExtra)"
   ]
  },
  {
   "cell_type": "code",
   "execution_count": 2,
   "metadata": {},
   "outputs": [],
   "source": [
    "data_preprocessed = read.csv(\"data_preprocessed.csv\", header = T)\n",
    "data = data_preprocessed"
   ]
  },
  {
   "cell_type": "code",
   "execution_count": 4,
   "metadata": {},
   "outputs": [],
   "source": [
    "table<-function(x,...){\n",
    "    x%>%\n",
    "    group_by(...)%>%\n",
    "    summarise(mean_price = round(mean(exp(log_price)), 0),\n",
    "              ci_price = paste0(\"\\u00B1 \", round(1.96*(sd(exp(log_price)) / sqrt(nrow(data))), 0)),\n",
    "              mean_sq = round(mean(exp(LotArea)), 0),\n",
    "              ci_sq = paste0(\"\\u00B1 \", round(1.96*(sd(exp(LotArea)) / sqrt(nrow(data))), 0)),\n",
    "              Count = n(),\n",
    "              \"Average Sale Price\" = paste0(mean_price, \" (\", ci_price, \")\"),\n",
    "              \"Average Square Footage\" = paste0(mean_sq, \" (\", ci_sq, \")\"),\n",
    "              \"Median Age\" = round(median(Age),0))%>%\n",
    "    select(-c(mean_sq, ci_sq, mean_price, ci_price))\n",
    "}"
   ]
  },
  {
   "cell_type": "code",
   "execution_count": 6,
   "metadata": {},
   "outputs": [
    {
     "data": {
      "text/html": [
       "<table>\n",
       "<thead><tr><th scope=col>House Style</th><th scope=col>Count</th><th scope=col>Average Sale Price</th><th scope=col>Average Square Footage</th><th scope=col>Median Age</th></tr></thead>\n",
       "<tbody>\n",
       "\t<tr><td>1.5Fin         </td><td>154            </td><td>143118 (± 2784)</td><td>11450 (± 916)  </td><td>70             </td></tr>\n",
       "\t<tr><td>1.5Unf         </td><td> 14            </td><td>110151 (± 976) </td><td>7120 (± 94)    </td><td>78             </td></tr>\n",
       "\t<tr><td>1Story         </td><td>726            </td><td>175986 (± 3953)</td><td>10645 (± 525)  </td><td>36             </td></tr>\n",
       "\t<tr><td>2.5Fin         </td><td>  8            </td><td>220001 (± 6064)</td><td>12469 (± 315)  </td><td>94             </td></tr>\n",
       "\t<tr><td>2.5Unf         </td><td> 11            </td><td>157356 (± 3280)</td><td>9154 (± 116)   </td><td>93             </td></tr>\n",
       "\t<tr><td>2Story         </td><td>445            </td><td>210053 (± 4480)</td><td>10326 (± 330)  </td><td>13             </td></tr>\n",
       "\t<tr><td>SFoyer         </td><td> 37            </td><td>135075 (± 1564)</td><td>7674 (± 182)   </td><td>32             </td></tr>\n",
       "\t<tr><td>SLvl           </td><td> 65            </td><td>166704 (± 1965)</td><td>10539 (± 176)  </td><td>37             </td></tr>\n",
       "</tbody>\n",
       "</table>\n"
      ],
      "text/latex": [
       "\\begin{tabular}{r|lllll}\n",
       " House Style & Count & Average Sale Price & Average Square Footage & Median Age\\\\\n",
       "\\hline\n",
       "\t 1.5Fin          & 154             & 143118 (± 2784) & 11450 (± 916)   & 70             \\\\\n",
       "\t 1.5Unf          &  14             & 110151 (± 976)  & 7120 (± 94)     & 78             \\\\\n",
       "\t 1Story          & 726             & 175986 (± 3953) & 10645 (± 525)   & 36             \\\\\n",
       "\t 2.5Fin          &   8             & 220001 (± 6064) & 12469 (± 315)   & 94             \\\\\n",
       "\t 2.5Unf          &  11             & 157356 (± 3280) & 9154 (± 116)    & 93             \\\\\n",
       "\t 2Story          & 445             & 210053 (± 4480) & 10326 (± 330)   & 13             \\\\\n",
       "\t SFoyer          &  37             & 135075 (± 1564) & 7674 (± 182)    & 32             \\\\\n",
       "\t SLvl            &  65             & 166704 (± 1965) & 10539 (± 176)   & 37             \\\\\n",
       "\\end{tabular}\n"
      ],
      "text/markdown": [
       "\n",
       "| House Style | Count | Average Sale Price | Average Square Footage | Median Age |\n",
       "|---|---|---|---|---|\n",
       "| 1.5Fin          | 154             | 143118 (± 2784) | 11450 (± 916)   | 70              |\n",
       "| 1.5Unf          |  14             | 110151 (± 976)  | 7120 (± 94)     | 78              |\n",
       "| 1Story          | 726             | 175986 (± 3953) | 10645 (± 525)   | 36              |\n",
       "| 2.5Fin          |   8             | 220001 (± 6064) | 12469 (± 315)   | 94              |\n",
       "| 2.5Unf          |  11             | 157356 (± 3280) | 9154 (± 116)    | 93              |\n",
       "| 2Story          | 445             | 210053 (± 4480) | 10326 (± 330)   | 13              |\n",
       "| SFoyer          |  37             | 135075 (± 1564) | 7674 (± 182)    | 32              |\n",
       "| SLvl            |  65             | 166704 (± 1965) | 10539 (± 176)   | 37              |\n",
       "\n"
      ],
      "text/plain": [
       "  House Style Count Average Sale Price Average Square Footage Median Age\n",
       "1 1.5Fin      154   143118 (± 2784)    11450 (± 916)          70        \n",
       "2 1.5Unf       14   110151 (± 976)     7120 (± 94)            78        \n",
       "3 1Story      726   175986 (± 3953)    10645 (± 525)          36        \n",
       "4 2.5Fin        8   220001 (± 6064)    12469 (± 315)          94        \n",
       "5 2.5Unf       11   157356 (± 3280)    9154 (± 116)           93        \n",
       "6 2Story      445   210053 (± 4480)    10326 (± 330)          13        \n",
       "7 SFoyer       37   135075 (± 1564)    7674 (± 182)           32        \n",
       "8 SLvl         65   166704 (± 1965)    10539 (± 176)          37        "
      ]
     },
     "metadata": {},
     "output_type": "display_data"
    }
   ],
   "source": [
    "table(data,HouseStyle)%>%\n",
    "    rename(\"House Style\" = \"HouseStyle\")"
   ]
  },
  {
   "cell_type": "code",
   "execution_count": 5,
   "metadata": {},
   "outputs": [
    {
     "data": {
      "text/html": [
       "<table>\n",
       "<thead><tr><th scope=col>Overall Quality</th><th scope=col>Count</th><th scope=col>Average Sale Price</th><th scope=col>Average Square Footage</th><th scope=col>Median Age</th></tr></thead>\n",
       "<tbody>\n",
       "\t<tr><td> 1             </td><td>  2            </td><td>50151 (± 787)  </td><td>7511 (± 182)   </td><td>74             </td></tr>\n",
       "\t<tr><td> 2             </td><td>  3            </td><td>51771 (± 731)  </td><td>7841 (± 78)    </td><td>73             </td></tr>\n",
       "\t<tr><td> 3             </td><td> 20            </td><td>87475 (± 1266) </td><td>8360 (± 169)   </td><td>73             </td></tr>\n",
       "\t<tr><td> 4             </td><td>116            </td><td>108422 (± 1489)</td><td>8919 (± 304)   </td><td>54             </td></tr>\n",
       "\t<tr><td> 5             </td><td>397            </td><td>133524 (± 1390)</td><td>10154 (± 472)  </td><td>49             </td></tr>\n",
       "\t<tr><td> 6             </td><td>374            </td><td>161604 (± 1851)</td><td>10028 (± 474)  </td><td>37             </td></tr>\n",
       "\t<tr><td> 7             </td><td>319            </td><td>207717 (± 2281)</td><td>11077 (± 722)  </td><td> 8             </td></tr>\n",
       "\t<tr><td> 8             </td><td>168            </td><td>274737 (± 3278)</td><td>11105 (± 282)  </td><td> 5             </td></tr>\n",
       "\t<tr><td> 9             </td><td> 43            </td><td>367514 (± 4169)</td><td>13425 (± 333)  </td><td> 2             </td></tr>\n",
       "\t<tr><td>10             </td><td> 18            </td><td>438589 (± 8196)</td><td>19871 (± 703)  </td><td> 1             </td></tr>\n",
       "</tbody>\n",
       "</table>\n"
      ],
      "text/latex": [
       "\\begin{tabular}{r|lllll}\n",
       " Overall Quality & Count & Average Sale Price & Average Square Footage & Median Age\\\\\n",
       "\\hline\n",
       "\t  1              &   2             & 50151 (± 787)   & 7511 (± 182)    & 74             \\\\\n",
       "\t  2              &   3             & 51771 (± 731)   & 7841 (± 78)     & 73             \\\\\n",
       "\t  3              &  20             & 87475 (± 1266)  & 8360 (± 169)    & 73             \\\\\n",
       "\t  4              & 116             & 108422 (± 1489) & 8919 (± 304)    & 54             \\\\\n",
       "\t  5              & 397             & 133524 (± 1390) & 10154 (± 472)   & 49             \\\\\n",
       "\t  6              & 374             & 161604 (± 1851) & 10028 (± 474)   & 37             \\\\\n",
       "\t  7              & 319             & 207717 (± 2281) & 11077 (± 722)   &  8             \\\\\n",
       "\t  8              & 168             & 274737 (± 3278) & 11105 (± 282)   &  5             \\\\\n",
       "\t  9              &  43             & 367514 (± 4169) & 13425 (± 333)   &  2             \\\\\n",
       "\t 10              &  18             & 438589 (± 8196) & 19871 (± 703)   &  1             \\\\\n",
       "\\end{tabular}\n"
      ],
      "text/markdown": [
       "\n",
       "| Overall Quality | Count | Average Sale Price | Average Square Footage | Median Age |\n",
       "|---|---|---|---|---|\n",
       "|  1              |   2             | 50151 (± 787)   | 7511 (± 182)    | 74              |\n",
       "|  2              |   3             | 51771 (± 731)   | 7841 (± 78)     | 73              |\n",
       "|  3              |  20             | 87475 (± 1266)  | 8360 (± 169)    | 73              |\n",
       "|  4              | 116             | 108422 (± 1489) | 8919 (± 304)    | 54              |\n",
       "|  5              | 397             | 133524 (± 1390) | 10154 (± 472)   | 49              |\n",
       "|  6              | 374             | 161604 (± 1851) | 10028 (± 474)   | 37              |\n",
       "|  7              | 319             | 207717 (± 2281) | 11077 (± 722)   |  8              |\n",
       "|  8              | 168             | 274737 (± 3278) | 11105 (± 282)   |  5              |\n",
       "|  9              |  43             | 367514 (± 4169) | 13425 (± 333)   |  2              |\n",
       "| 10              |  18             | 438589 (± 8196) | 19871 (± 703)   |  1              |\n",
       "\n"
      ],
      "text/plain": [
       "   Overall Quality Count Average Sale Price Average Square Footage Median Age\n",
       "1   1                2   50151 (± 787)      7511 (± 182)           74        \n",
       "2   2                3   51771 (± 731)      7841 (± 78)            73        \n",
       "3   3               20   87475 (± 1266)     8360 (± 169)           73        \n",
       "4   4              116   108422 (± 1489)    8919 (± 304)           54        \n",
       "5   5              397   133524 (± 1390)    10154 (± 472)          49        \n",
       "6   6              374   161604 (± 1851)    10028 (± 474)          37        \n",
       "7   7              319   207717 (± 2281)    11077 (± 722)           8        \n",
       "8   8              168   274737 (± 3278)    11105 (± 282)           5        \n",
       "9   9               43   367514 (± 4169)    13425 (± 333)           2        \n",
       "10 10               18   438589 (± 8196)    19871 (± 703)           1        "
      ]
     },
     "metadata": {},
     "output_type": "display_data"
    }
   ],
   "source": [
    "table(data,OverallQual)%>%\n",
    "    rename(\"Overall Quality\" = \"OverallQual\")"
   ]
  },
  {
   "cell_type": "code",
   "execution_count": 7,
   "metadata": {},
   "outputs": [
    {
     "data": {
      "text/html": [
       "<table>\n",
       "<thead><tr><th scope=col>BedroomAbvGr</th><th scope=col>Count</th><th scope=col>Average Sale Price</th><th scope=col>Average Square Footage</th><th scope=col>Median Age</th></tr></thead>\n",
       "<tbody>\n",
       "\t<tr><td>0              </td><td>  6            </td><td>221494 (± 5472)</td><td>18153 (± 874)  </td><td>30             </td></tr>\n",
       "\t<tr><td>1              </td><td> 50            </td><td>173163 (± 5282)</td><td>7869 (± 287)   </td><td>16             </td></tr>\n",
       "\t<tr><td>2              </td><td>358            </td><td>158199 (± 4011)</td><td>8484 (± 407)   </td><td>44             </td></tr>\n",
       "\t<tr><td>3              </td><td>804            </td><td>181058 (± 3272)</td><td>10856 (± 529)  </td><td>32             </td></tr>\n",
       "\t<tr><td>4              </td><td>213            </td><td>220422 (± 5617)</td><td>12923 (± 605)  </td><td>38             </td></tr>\n",
       "\t<tr><td>5              </td><td> 21            </td><td>180820 (± 3512)</td><td>12363 (± 425)  </td><td>88             </td></tr>\n",
       "\t<tr><td>6              </td><td>  7            </td><td>143780 (± 1357)</td><td>9311 (± 135)   </td><td>43             </td></tr>\n",
       "\t<tr><td>8              </td><td>  1            </td><td>200001 (± NA)  </td><td>10897 (± NA)   </td><td>93             </td></tr>\n",
       "</tbody>\n",
       "</table>\n"
      ],
      "text/latex": [
       "\\begin{tabular}{r|lllll}\n",
       " BedroomAbvGr & Count & Average Sale Price & Average Square Footage & Median Age\\\\\n",
       "\\hline\n",
       "\t 0               &   6             & 221494 (± 5472) & 18153 (± 874)   & 30             \\\\\n",
       "\t 1               &  50             & 173163 (± 5282) & 7869 (± 287)    & 16             \\\\\n",
       "\t 2               & 358             & 158199 (± 4011) & 8484 (± 407)    & 44             \\\\\n",
       "\t 3               & 804             & 181058 (± 3272) & 10856 (± 529)   & 32             \\\\\n",
       "\t 4               & 213             & 220422 (± 5617) & 12923 (± 605)   & 38             \\\\\n",
       "\t 5               &  21             & 180820 (± 3512) & 12363 (± 425)   & 88             \\\\\n",
       "\t 6               &   7             & 143780 (± 1357) & 9311 (± 135)    & 43             \\\\\n",
       "\t 8               &   1             & 200001 (± NA)   & 10897 (± NA)    & 93             \\\\\n",
       "\\end{tabular}\n"
      ],
      "text/markdown": [
       "\n",
       "| BedroomAbvGr | Count | Average Sale Price | Average Square Footage | Median Age |\n",
       "|---|---|---|---|---|\n",
       "| 0               |   6             | 221494 (± 5472) | 18153 (± 874)   | 30              |\n",
       "| 1               |  50             | 173163 (± 5282) | 7869 (± 287)    | 16              |\n",
       "| 2               | 358             | 158199 (± 4011) | 8484 (± 407)    | 44              |\n",
       "| 3               | 804             | 181058 (± 3272) | 10856 (± 529)   | 32              |\n",
       "| 4               | 213             | 220422 (± 5617) | 12923 (± 605)   | 38              |\n",
       "| 5               |  21             | 180820 (± 3512) | 12363 (± 425)   | 88              |\n",
       "| 6               |   7             | 143780 (± 1357) | 9311 (± 135)    | 43              |\n",
       "| 8               |   1             | 200001 (± NA)   | 10897 (± NA)    | 93              |\n",
       "\n"
      ],
      "text/plain": [
       "  BedroomAbvGr Count Average Sale Price Average Square Footage Median Age\n",
       "1 0              6   221494 (± 5472)    18153 (± 874)          30        \n",
       "2 1             50   173163 (± 5282)    7869 (± 287)           16        \n",
       "3 2            358   158199 (± 4011)    8484 (± 407)           44        \n",
       "4 3            804   181058 (± 3272)    10856 (± 529)          32        \n",
       "5 4            213   220422 (± 5617)    12923 (± 605)          38        \n",
       "6 5             21   180820 (± 3512)    12363 (± 425)          88        \n",
       "7 6              7   143780 (± 1357)    9311 (± 135)           43        \n",
       "8 8              1   200001 (± NA)      10897 (± NA)           93        "
      ]
     },
     "metadata": {},
     "output_type": "display_data"
    }
   ],
   "source": [
    "table(data,BedroomAbvGr)"
   ]
  },
  {
   "cell_type": "code",
   "execution_count": 38,
   "metadata": {},
   "outputs": [
    {
     "data": {
      "image/png": "[encoded data removed]",
      "text/plain": [
       "plot without title"
      ]
     },
     "metadata": {},
     "output_type": "display_data"
    }
   ],
   "source": [
    "options(repr.plot.width = 8, repr.plot.height = 4)\n",
    "\n",
    "age_price_plot<-data%>%\n",
    "    ggplot()+\n",
    "    geom_point(aes(Age, log_price), color = \"darkblue\")+\n",
    "    labs(x = \"Age\", y = \"Log(Price)\")+\n",
    "    scale_x_continuous(breaks = seq(0,120,15))+\n",
    "    geom_vline(data = data,aes(xintercept = mean(data[,\"Age\"]), linetype = \"Mean Age\"),\n",
    "                               size = 1.3, color = \"darkred\")+\n",
    "    scale_linetype_manual(values = c(\"Mean Age\" = \"dashed\"))+\n",
    "    theme_bw()+\n",
    "    theme(axis.title = element_text(size = 14, face = \"bold\"),\n",
    "          axis.text = element_text(size = 12),\n",
    "          legend.title = element_blank(),\n",
    "          legend.background = element_blank(),\n",
    "          legend.text = element_text(size = 12, face = \"bold\"),legend.position = c(0.80,0.90))\n",
    "\n",
    "sqf_price_plot<-data%>%\n",
    "    ggplot()+\n",
    "    geom_point(aes(LotArea, log_price), color = \"darkblue\")+\n",
    "    labs(x = \"Log(Square Footage)\", y = \"\")+\n",
    "    theme_bw()+\n",
    "    theme(axis.title = element_text(size = 14, face = \"bold\"),\n",
    "          axis.text = element_text(size = 12))\n",
    "\n",
    "grid.arrange(age_price_plot, sqf_price_plot, ncol = 2, nrow = 1)"
   ]
  },
  {
   "cell_type": "code",
   "execution_count": 41,
   "metadata": {},
   "outputs": [
    {
     "data": {
      "image/png": "[encoded data removed]",
      "text/plain": [
       "plot without title"
      ]
     },
     "metadata": {},
     "output_type": "display_data"
    }
   ],
   "source": [
    "options(repr.plot.width = 8, repr.plot.height = 4)\n",
    "\n",
    "data%>%\n",
    "    ggplot()+\n",
    "    geom_boxplot(aes(HouseStyle, log_price), fill = \"skyblue\")+\n",
    "    theme_bw()+\n",
    "    labs(x = \"Style\", y = \"Log(Price)\")+\n",
    "    theme(axis.title = element_text(size = 15, face = \"bold\"),\n",
    "          axis.text = element_text(size = 12))"
   ]
  }
 ],
 "metadata": {
  "kernelspec": {
   "display_name": "R",
   "language": "R",
   "name": "ir"
  },
  "language_info": {
   "codemirror_mode": "r",
   "file_extension": ".r",
   "mimetype": "text/x-r-source",
   "name": "R",
   "pygments_lexer": "r",
   "version": "3.6.1"
  }
 },
 "nbformat": 4,
 "nbformat_minor": 4
}
