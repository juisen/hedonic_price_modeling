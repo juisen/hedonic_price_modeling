{
 "cells": [
  {
   "cell_type": "code",
   "execution_count": 2,
   "metadata": {},
   "outputs": [],
   "source": [
    "library(tidyverse)"
   ]
  },
  {
   "cell_type": "code",
   "execution_count": 87,
   "metadata": {},
   "outputs": [
    {
     "data": {
      "text/html": [
       "<table>\n",
       "<thead><tr><th scope=col>MSSubClass</th><th scope=col>MSZoning</th><th scope=col>LotFrontage</th><th scope=col>LotArea</th><th scope=col>Street</th><th scope=col>LotShape</th><th scope=col>LandContour</th><th scope=col>Utilities</th><th scope=col>LotConfig</th><th scope=col>LandSlope</th><th scope=col>...</th><th scope=col>MiscVal</th><th scope=col>MoSold</th><th scope=col>YrSold</th><th scope=col>SaleType</th><th scope=col>SaleCondition</th><th scope=col>log_price</th><th scope=col>Age</th><th scope=col>HasBasement</th><th scope=col>HasGarage</th><th scope=col>HasFireplace</th></tr></thead>\n",
       "<tbody>\n",
       "\t<tr><td>60      </td><td>RL      </td><td>65      </td><td>9.042040</td><td>Pave    </td><td>Reg     </td><td>Lvl     </td><td>AllPub  </td><td>Inside  </td><td>Gtl     </td><td>...     </td><td>  0     </td><td> 2      </td><td>2008    </td><td>WD      </td><td>Normal  </td><td>12.24770</td><td> 5      </td><td>Yes     </td><td>Yes     </td><td>No      </td></tr>\n",
       "\t<tr><td>20      </td><td>RL      </td><td>80      </td><td>9.169623</td><td>Pave    </td><td>Reg     </td><td>Lvl     </td><td>AllPub  </td><td>FR2     </td><td>Gtl     </td><td>...     </td><td>  0     </td><td> 5      </td><td>2007    </td><td>WD      </td><td>Normal  </td><td>12.10902</td><td>31      </td><td>Yes     </td><td>Yes     </td><td>Yes     </td></tr>\n",
       "\t<tr><td>60      </td><td>RL      </td><td>68      </td><td>9.328212</td><td>Pave    </td><td>IR1     </td><td>Lvl     </td><td>AllPub  </td><td>Inside  </td><td>Gtl     </td><td>...     </td><td>  0     </td><td> 9      </td><td>2008    </td><td>WD      </td><td>Normal  </td><td>12.31717</td><td> 7      </td><td>Yes     </td><td>Yes     </td><td>Yes     </td></tr>\n",
       "\t<tr><td>70      </td><td>RL      </td><td>60      </td><td>9.164401</td><td>Pave    </td><td>IR1     </td><td>Lvl     </td><td>AllPub  </td><td>Corner  </td><td>Gtl     </td><td>...     </td><td>  0     </td><td> 2      </td><td>2006    </td><td>WD      </td><td>Abnorml </td><td>11.84940</td><td>91      </td><td>Yes     </td><td>Yes     </td><td>Yes     </td></tr>\n",
       "\t<tr><td>60      </td><td>RL      </td><td>84      </td><td>9.565284</td><td>Pave    </td><td>IR1     </td><td>Lvl     </td><td>AllPub  </td><td>FR2     </td><td>Gtl     </td><td>...     </td><td>  0     </td><td>12      </td><td>2008    </td><td>WD      </td><td>Normal  </td><td>12.42922</td><td> 8      </td><td>Yes     </td><td>Yes     </td><td>Yes     </td></tr>\n",
       "\t<tr><td>50      </td><td>RL      </td><td>85      </td><td>9.555064</td><td>Pave    </td><td>IR1     </td><td>Lvl     </td><td>AllPub  </td><td>Inside  </td><td>Gtl     </td><td>...     </td><td>700     </td><td>10      </td><td>2009    </td><td>WD      </td><td>Normal  </td><td>11.87061</td><td>16      </td><td>Yes     </td><td>Yes     </td><td>No      </td></tr>\n",
       "</tbody>\n",
       "</table>\n"
      ],
      "text/latex": [
       "\\begin{tabular}{r|llllllllllllllllllllllllllllllllllllllllllllllllllllllllllllllllllllllllllllllll}\n",
       " MSSubClass & MSZoning & LotFrontage & LotArea & Street & LotShape & LandContour & Utilities & LotConfig & LandSlope & ... & MiscVal & MoSold & YrSold & SaleType & SaleCondition & log\\_price & Age & HasBasement & HasGarage & HasFireplace\\\\\n",
       "\\hline\n",
       "\t 60       & RL       & 65       & 9.042040 & Pave     & Reg      & Lvl      & AllPub   & Inside   & Gtl      & ...      &   0      &  2       & 2008     & WD       & Normal   & 12.24770 &  5       & Yes      & Yes      & No      \\\\\n",
       "\t 20       & RL       & 80       & 9.169623 & Pave     & Reg      & Lvl      & AllPub   & FR2      & Gtl      & ...      &   0      &  5       & 2007     & WD       & Normal   & 12.10902 & 31       & Yes      & Yes      & Yes     \\\\\n",
       "\t 60       & RL       & 68       & 9.328212 & Pave     & IR1      & Lvl      & AllPub   & Inside   & Gtl      & ...      &   0      &  9       & 2008     & WD       & Normal   & 12.31717 &  7       & Yes      & Yes      & Yes     \\\\\n",
       "\t 70       & RL       & 60       & 9.164401 & Pave     & IR1      & Lvl      & AllPub   & Corner   & Gtl      & ...      &   0      &  2       & 2006     & WD       & Abnorml  & 11.84940 & 91       & Yes      & Yes      & Yes     \\\\\n",
       "\t 60       & RL       & 84       & 9.565284 & Pave     & IR1      & Lvl      & AllPub   & FR2      & Gtl      & ...      &   0      & 12       & 2008     & WD       & Normal   & 12.42922 &  8       & Yes      & Yes      & Yes     \\\\\n",
       "\t 50       & RL       & 85       & 9.555064 & Pave     & IR1      & Lvl      & AllPub   & Inside   & Gtl      & ...      & 700      & 10       & 2009     & WD       & Normal   & 11.87061 & 16       & Yes      & Yes      & No      \\\\\n",
       "\\end{tabular}\n"
      ],
      "text/markdown": [
       "\n",
       "| MSSubClass | MSZoning | LotFrontage | LotArea | Street | LotShape | LandContour | Utilities | LotConfig | LandSlope | ... | MiscVal | MoSold | YrSold | SaleType | SaleCondition | log_price | Age | HasBasement | HasGarage | HasFireplace |\n",
       "|---|---|---|---|---|---|---|---|---|---|---|---|---|---|---|---|---|---|---|---|---|\n",
       "| 60       | RL       | 65       | 9.042040 | Pave     | Reg      | Lvl      | AllPub   | Inside   | Gtl      | ...      |   0      |  2       | 2008     | WD       | Normal   | 12.24770 |  5       | Yes      | Yes      | No       |\n",
       "| 20       | RL       | 80       | 9.169623 | Pave     | Reg      | Lvl      | AllPub   | FR2      | Gtl      | ...      |   0      |  5       | 2007     | WD       | Normal   | 12.10902 | 31       | Yes      | Yes      | Yes      |\n",
       "| 60       | RL       | 68       | 9.328212 | Pave     | IR1      | Lvl      | AllPub   | Inside   | Gtl      | ...      |   0      |  9       | 2008     | WD       | Normal   | 12.31717 |  7       | Yes      | Yes      | Yes      |\n",
       "| 70       | RL       | 60       | 9.164401 | Pave     | IR1      | Lvl      | AllPub   | Corner   | Gtl      | ...      |   0      |  2       | 2006     | WD       | Abnorml  | 11.84940 | 91       | Yes      | Yes      | Yes      |\n",
       "| 60       | RL       | 84       | 9.565284 | Pave     | IR1      | Lvl      | AllPub   | FR2      | Gtl      | ...      |   0      | 12       | 2008     | WD       | Normal   | 12.42922 |  8       | Yes      | Yes      | Yes      |\n",
       "| 50       | RL       | 85       | 9.555064 | Pave     | IR1      | Lvl      | AllPub   | Inside   | Gtl      | ...      | 700      | 10       | 2009     | WD       | Normal   | 11.87061 | 16       | Yes      | Yes      | No       |\n",
       "\n"
      ],
      "text/plain": [
       "  MSSubClass MSZoning LotFrontage LotArea  Street LotShape LandContour\n",
       "1 60         RL       65          9.042040 Pave   Reg      Lvl        \n",
       "2 20         RL       80          9.169623 Pave   Reg      Lvl        \n",
       "3 60         RL       68          9.328212 Pave   IR1      Lvl        \n",
       "4 70         RL       60          9.164401 Pave   IR1      Lvl        \n",
       "5 60         RL       84          9.565284 Pave   IR1      Lvl        \n",
       "6 50         RL       85          9.555064 Pave   IR1      Lvl        \n",
       "  Utilities LotConfig LandSlope ... MiscVal MoSold YrSold SaleType\n",
       "1 AllPub    Inside    Gtl       ...   0      2     2008   WD      \n",
       "2 AllPub    FR2       Gtl       ...   0      5     2007   WD      \n",
       "3 AllPub    Inside    Gtl       ...   0      9     2008   WD      \n",
       "4 AllPub    Corner    Gtl       ...   0      2     2006   WD      \n",
       "5 AllPub    FR2       Gtl       ...   0     12     2008   WD      \n",
       "6 AllPub    Inside    Gtl       ... 700     10     2009   WD      \n",
       "  SaleCondition log_price Age HasBasement HasGarage HasFireplace\n",
       "1 Normal        12.24770   5  Yes         Yes       No          \n",
       "2 Normal        12.10902  31  Yes         Yes       Yes         \n",
       "3 Normal        12.31717   7  Yes         Yes       Yes         \n",
       "4 Abnorml       11.84940  91  Yes         Yes       Yes         \n",
       "5 Normal        12.42922   8  Yes         Yes       Yes         \n",
       "6 Normal        11.87061  16  Yes         Yes       No          "
      ]
     },
     "metadata": {},
     "output_type": "display_data"
    }
   ],
   "source": [
    "data_preprocessed = read.csv(\"data_preprocessed.csv\",header = T)\n",
    "data = data_preprocessed\n",
    "head(data)"
   ]
  },
  {
   "cell_type": "code",
   "execution_count": 45,
   "metadata": {},
   "outputs": [
    {
     "data": {
      "image/png": "[encoded data removed]",
      "text/plain": [
       "plot without title"
      ]
     },
     "metadata": {},
     "output_type": "display_data"
    }
   ],
   "source": [
    "options(repr.plot.width = 8, repr.plot.height = 4)\n",
    "mean_age = mean(data[,\"Age\"])\n",
    "\n",
    "data%>%\n",
    "    ggplot()+\n",
    "    geom_point(aes(Age, log_price), color = \"darkblue\")+\n",
    "    labs(title = \"Relationship Between Sale Price and Age\", x = \"Age\", y = \"Log(Price)\")+\n",
    "    scale_x_continuous(breaks = seq(0,120,15))+\n",
    "    geom_vline(data = data,aes(xintercept = mean_age, linetype = \"Mean Age\"),size = 1.3,color = \"darkred\")+\n",
    "    scale_linetype_manual(values = c(\"Mean Age\" = \"dashed\"))+\n",
    "    theme_bw()+\n",
    "    theme(plot.title = element_text(hjust = 0.5, size = 18, face = \"bold\"),\n",
    "          axis.title = element_text(size = 15, face = \"bold\"),\n",
    "          axis.text = element_text(size = 12),\n",
    "          legend.title = element_blank(),\n",
    "          legend.background = element_blank(),\n",
    "          legend.text = element_text(size = 12, face = \"bold\"),legend.position = c(0.90,0.85))"
   ]
  },
  {
   "cell_type": "code",
   "execution_count": 98,
   "metadata": {},
   "outputs": [
    {
     "data": {
      "text/html": [
       "<table>\n",
       "<thead><tr><th scope=col>Overall Quality</th><th scope=col>Count</th><th scope=col>Mean Sale Price</th><th scope=col>Median Age</th></tr></thead>\n",
       "<tbody>\n",
       "\t<tr><td>1               </td><td>  2             </td><td>50151 (± 7872)  </td><td>74              </td></tr>\n",
       "\t<tr><td>2               </td><td>  3             </td><td>51771 (± 7312)  </td><td>73              </td></tr>\n",
       "\t<tr><td>3               </td><td> 20             </td><td>87475 (± 12662) </td><td>73              </td></tr>\n",
       "\t<tr><td>4               </td><td>116             </td><td>108422 (± 14892)</td><td>54              </td></tr>\n",
       "\t<tr><td>5               </td><td>397             </td><td>133524 (± 13902)</td><td>49              </td></tr>\n",
       "\t<tr><td>6               </td><td>374             </td><td>161604 (± 18512)</td><td>37              </td></tr>\n",
       "\t<tr><td>7               </td><td>319             </td><td>207717 (± 22812)</td><td> 8              </td></tr>\n",
       "\t<tr><td>8               </td><td>168             </td><td>274737 (± 32782)</td><td> 5              </td></tr>\n",
       "\t<tr><td>9               </td><td> 43             </td><td>367514 (± 41692)</td><td> 2              </td></tr>\n",
       "\t<tr><td>10              </td><td> 18             </td><td>438589 (± 81962)</td><td> 1              </td></tr>\n",
       "</tbody>\n",
       "</table>\n"
      ],
      "text/latex": [
       "\\begin{tabular}{r|llll}\n",
       " Overall Quality & Count & Mean Sale Price & Median Age\\\\\n",
       "\\hline\n",
       "\t 1                &   2              & 50151 (± 7872)   & 74              \\\\\n",
       "\t 2                &   3              & 51771 (± 7312)   & 73              \\\\\n",
       "\t 3                &  20              & 87475 (± 12662)  & 73              \\\\\n",
       "\t 4                & 116              & 108422 (± 14892) & 54              \\\\\n",
       "\t 5                & 397              & 133524 (± 13902) & 49              \\\\\n",
       "\t 6                & 374              & 161604 (± 18512) & 37              \\\\\n",
       "\t 7                & 319              & 207717 (± 22812) &  8              \\\\\n",
       "\t 8                & 168              & 274737 (± 32782) &  5              \\\\\n",
       "\t 9                &  43              & 367514 (± 41692) &  2              \\\\\n",
       "\t 10               &  18              & 438589 (± 81962) &  1              \\\\\n",
       "\\end{tabular}\n"
      ],
      "text/markdown": [
       "\n",
       "| Overall Quality | Count | Mean Sale Price | Median Age |\n",
       "|---|---|---|---|\n",
       "| 1                |   2              | 50151 (± 7872)   | 74               |\n",
       "| 2                |   3              | 51771 (± 7312)   | 73               |\n",
       "| 3                |  20              | 87475 (± 12662)  | 73               |\n",
       "| 4                | 116              | 108422 (± 14892) | 54               |\n",
       "| 5                | 397              | 133524 (± 13902) | 49               |\n",
       "| 6                | 374              | 161604 (± 18512) | 37               |\n",
       "| 7                | 319              | 207717 (± 22812) |  8               |\n",
       "| 8                | 168              | 274737 (± 32782) |  5               |\n",
       "| 9                |  43              | 367514 (± 41692) |  2               |\n",
       "| 10               |  18              | 438589 (± 81962) |  1               |\n",
       "\n"
      ],
      "text/plain": [
       "   Overall Quality Count Mean Sale Price  Median Age\n",
       "1  1                 2   50151 (± 7872)   74        \n",
       "2  2                 3   51771 (± 7312)   73        \n",
       "3  3                20   87475 (± 12662)  73        \n",
       "4  4               116   108422 (± 14892) 54        \n",
       "5  5               397   133524 (± 13902) 49        \n",
       "6  6               374   161604 (± 18512) 37        \n",
       "7  7               319   207717 (± 22812)  8        \n",
       "8  8               168   274737 (± 32782)  5        \n",
       "9  9                43   367514 (± 41692)  2        \n",
       "10 10               18   438589 (± 81962)  1        "
      ]
     },
     "metadata": {},
     "output_type": "display_data"
    }
   ],
   "source": [
    "data%>%\n",
    "    mutate(OverallQual = as.factor(OverallQual))%>%\n",
    "    group_by(OverallQual)%>%\n",
    "    summarise(Count = n(),\n",
    "              mean = round(mean(exp(log_price)), 0),\n",
    "              ci = paste0(\"\\u00B1 \", round(1.96*(sd(exp(log_price)) / sqrt(nrow(data)))), 2),\n",
    "              \"Mean Sale Price\" = paste0(mean, \" (\", ci, \")\"),\n",
    "              \"Median Age\" = round(median(Age),0))%>%\n",
    "    rename(\"Overall Quality\" = \"OverallQual\")%>%\n",
    "    select(-c(mean,ci))"
   ]
  }
 ],
 "metadata": {
  "kernelspec": {
   "display_name": "R",
   "language": "R",
   "name": "ir"
  },
  "language_info": {
   "codemirror_mode": "r",
   "file_extension": ".r",
   "mimetype": "text/x-r-source",
   "name": "R",
   "pygments_lexer": "r",
   "version": "3.6.1"
  }
 },
 "nbformat": 4,
 "nbformat_minor": 4
}
